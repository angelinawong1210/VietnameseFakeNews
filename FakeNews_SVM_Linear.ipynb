{
  "nbformat": 4,
  "nbformat_minor": 0,
  "metadata": {
    "colab": {
      "provenance": [],
      "toc_visible": true,
      "authorship_tag": "ABX9TyPv9VY62DAHr55h0QdrKWna",
      "include_colab_link": true
    },
    "kernelspec": {
      "name": "python3",
      "display_name": "Python 3"
    },
    "language_info": {
      "name": "python"
    }
  },
  "cells": [
    {
      "cell_type": "markdown",
      "metadata": {
        "id": "view-in-github",
        "colab_type": "text"
      },
      "source": [
        "<a href=\"https://colab.research.google.com/github/angelinawong1210/VietnameseFakeNews/blob/main/FakeNews_SVM_Linear.ipynb\" target=\"_parent\"><img src=\"https://colab.research.google.com/assets/colab-badge.svg\" alt=\"Open In Colab\"/></a>"
      ]
    },
    {
      "cell_type": "code",
      "source": [
        "import numpy as np # linear algebra\n",
        "import pandas as pd # data processing, CSV file I/O (e.g. pd.read_csv)"
      ],
      "metadata": {
        "id": "qJZ80pEfjybS"
      },
      "execution_count": null,
      "outputs": []
    },
    {
      "cell_type": "code",
      "source": [
        "truenews = pd.read_csv('/content/Fake.csv')\n",
        "fakenews = pd.read_csv('/content/Real.csv')"
      ],
      "metadata": {
        "id": "IeASuSQAj1hq"
      },
      "execution_count": null,
      "outputs": []
    },
    {
      "cell_type": "code",
      "source": [
        "truenews['True/Fake']='True'\n",
        "fakenews['True/Fake']='Fake'"
      ],
      "metadata": {
        "id": "kDMHyIfJj3YZ"
      },
      "execution_count": null,
      "outputs": []
    },
    {
      "cell_type": "code",
      "source": [
        "# Combine the 2 DataFrames into a single data frame\n",
        "news = pd.concat([truenews, fakenews])\n",
        "news[\"Article\"] = news[\"tittle\"] + news[\"text\"]\n",
        "news.sample(frac = 1) #Shuffle 100%"
      ],
      "metadata": {
        "colab": {
          "base_uri": "https://localhost:8080/",
          "height": 641
        },
        "id": "G4kJsNpmj6uc",
        "outputId": "3cfdb9b0-190a-4802-9b97-c0b3c5ec3853"
      },
      "execution_count": null,
      "outputs": [
        {
          "output_type": "execute_result",
          "data": {
            "text/plain": [
              "                                                tittle  \\\n",
              "29   Những món ăn \"thần kỳ\" giúp sĩ tử \"thi đâu đậu...   \n",
              "128    VKS đề nghị bác đơn kêu oan của ông Lê Tùng Vân   \n",
              "9    Bức vẽ giúp bạn đánh giá mức độ stress của bản...   \n",
              "13   Đề xuất cấm tất cả công chức Hà Nội đổ xăng tạ...   \n",
              "95   Chuyện li kì người phụ nữ cứu rắn hổ chúa và b...   \n",
              "..                                                 ...   \n",
              "89             Ôtô đi ngược chiều bị phạt 800.000 đồng   \n",
              "3         Chưa bao giờ nhạc Kpop lại dễ hát đến thế!!!   \n",
              "51   Xã hội đen Đài Loan mở tiệm mỳ miễn phí cho ng...   \n",
              "140  Đòi quan hệ nhiều lần mà không có quà, nữ sinh...   \n",
              "64       Đội cảnh sát có khả năng siêu nhớ mặt tại Anh   \n",
              "\n",
              "                                                  text                 domain  \\\n",
              "29    Ăn đậu để thi đâu đậu đó hay ăn bắp để bài là...          thoibao.today   \n",
              "128  VKS cho rằng, tòa cấp sơ thẩm đã xét xử ông Lê...          vnexpress.net   \n",
              "9     Nhìn bức tranh, bạn có thể thấy vòng tròn đan...  suckhoe.vnexpress.net   \n",
              "13    Theo một nguồn tin, chiều ngày 11/10 UBND TP....          phapluat.news   \n",
              "95    Rắn hổ mang (danh pháp khoa học: Naja atra) l...             tinvn.info   \n",
              "..                                                 ...                    ...   \n",
              "89    Theo khoản 1 Điều 9 Luật Giao thông đường bộ ...          vnexpress.net   \n",
              "3    Chưa bao giờ nhạc Kpop lại dễ hát đến thế!!!\\n...         tintucqpvn.net   \n",
              "51   \\n Xã hội đen Italy dụ người nghèo hủy hoại ch...          vnexpress.net   \n",
              "140  Sau nhiều lần hứa tặng quà, cho tiền ân ái như...                    NaN   \n",
              "64    Năm 2009, một nghiên cứu do nhà tâm lý học Ri...          vnexpress.net   \n",
              "\n",
              "           topic True/Fake                                            Article  \n",
              "29     Đời sống       True  Những món ăn \"thần kỳ\" giúp sĩ tử \"thi đâu đậu...  \n",
              "128     An ninh       Fake  VKS đề nghị bác đơn kêu oan của ông Lê Tùng Vâ...  \n",
              "9          Y tế       True  Bức vẽ giúp bạn đánh giá mức độ stress của bản...  \n",
              "13    Chính trị       True  Đề xuất cấm tất cả công chức Hà Nội đổ xăng tạ...  \n",
              "95     Đời sống       True  Chuyện li kì người phụ nữ cứu rắn hổ chúa và b...  \n",
              "..           ...       ...                                                ...  \n",
              "89   Giao thông       Fake  Ôtô đi ngược chiều bị phạt 800.000 đồng Theo k...  \n",
              "3      Giải trí       True  Chưa bao giờ nhạc Kpop lại dễ hát đến thế!!!Ch...  \n",
              "51     Đời sống       Fake  Xã hội đen Đài Loan mở tiệm mỳ miễn phí cho ng...  \n",
              "140    Đời sống       True  Đòi quan hệ nhiều lần mà không có quà, nữ sinh...  \n",
              "64      An ninh       Fake  Đội cảnh sát có khả năng siêu nhớ mặt tại Anh ...  \n",
              "\n",
              "[299 rows x 6 columns]"
            ],
            "text/html": [
              "\n",
              "  <div id=\"df-9af07048-0d41-4efe-a0e9-cd998cdb0278\">\n",
              "    <div class=\"colab-df-container\">\n",
              "      <div>\n",
              "<style scoped>\n",
              "    .dataframe tbody tr th:only-of-type {\n",
              "        vertical-align: middle;\n",
              "    }\n",
              "\n",
              "    .dataframe tbody tr th {\n",
              "        vertical-align: top;\n",
              "    }\n",
              "\n",
              "    .dataframe thead th {\n",
              "        text-align: right;\n",
              "    }\n",
              "</style>\n",
              "<table border=\"1\" class=\"dataframe\">\n",
              "  <thead>\n",
              "    <tr style=\"text-align: right;\">\n",
              "      <th></th>\n",
              "      <th>tittle</th>\n",
              "      <th>text</th>\n",
              "      <th>domain</th>\n",
              "      <th>topic</th>\n",
              "      <th>True/Fake</th>\n",
              "      <th>Article</th>\n",
              "    </tr>\n",
              "  </thead>\n",
              "  <tbody>\n",
              "    <tr>\n",
              "      <th>29</th>\n",
              "      <td>Những món ăn \"thần kỳ\" giúp sĩ tử \"thi đâu đậu...</td>\n",
              "      <td>Ăn đậu để thi đâu đậu đó hay ăn bắp để bài là...</td>\n",
              "      <td>thoibao.today</td>\n",
              "      <td>Đời sống</td>\n",
              "      <td>True</td>\n",
              "      <td>Những món ăn \"thần kỳ\" giúp sĩ tử \"thi đâu đậu...</td>\n",
              "    </tr>\n",
              "    <tr>\n",
              "      <th>128</th>\n",
              "      <td>VKS đề nghị bác đơn kêu oan của ông Lê Tùng Vân</td>\n",
              "      <td>VKS cho rằng, tòa cấp sơ thẩm đã xét xử ông Lê...</td>\n",
              "      <td>vnexpress.net</td>\n",
              "      <td>An ninh</td>\n",
              "      <td>Fake</td>\n",
              "      <td>VKS đề nghị bác đơn kêu oan của ông Lê Tùng Vâ...</td>\n",
              "    </tr>\n",
              "    <tr>\n",
              "      <th>9</th>\n",
              "      <td>Bức vẽ giúp bạn đánh giá mức độ stress của bản...</td>\n",
              "      <td>Nhìn bức tranh, bạn có thể thấy vòng tròn đan...</td>\n",
              "      <td>suckhoe.vnexpress.net</td>\n",
              "      <td>Y tế</td>\n",
              "      <td>True</td>\n",
              "      <td>Bức vẽ giúp bạn đánh giá mức độ stress của bản...</td>\n",
              "    </tr>\n",
              "    <tr>\n",
              "      <th>13</th>\n",
              "      <td>Đề xuất cấm tất cả công chức Hà Nội đổ xăng tạ...</td>\n",
              "      <td>Theo một nguồn tin, chiều ngày 11/10 UBND TP....</td>\n",
              "      <td>phapluat.news</td>\n",
              "      <td>Chính trị</td>\n",
              "      <td>True</td>\n",
              "      <td>Đề xuất cấm tất cả công chức Hà Nội đổ xăng tạ...</td>\n",
              "    </tr>\n",
              "    <tr>\n",
              "      <th>95</th>\n",
              "      <td>Chuyện li kì người phụ nữ cứu rắn hổ chúa và b...</td>\n",
              "      <td>Rắn hổ mang (danh pháp khoa học: Naja atra) l...</td>\n",
              "      <td>tinvn.info</td>\n",
              "      <td>Đời sống</td>\n",
              "      <td>True</td>\n",
              "      <td>Chuyện li kì người phụ nữ cứu rắn hổ chúa và b...</td>\n",
              "    </tr>\n",
              "    <tr>\n",
              "      <th>...</th>\n",
              "      <td>...</td>\n",
              "      <td>...</td>\n",
              "      <td>...</td>\n",
              "      <td>...</td>\n",
              "      <td>...</td>\n",
              "      <td>...</td>\n",
              "    </tr>\n",
              "    <tr>\n",
              "      <th>89</th>\n",
              "      <td>Ôtô đi ngược chiều bị phạt 800.000 đồng</td>\n",
              "      <td>Theo khoản 1 Điều 9 Luật Giao thông đường bộ ...</td>\n",
              "      <td>vnexpress.net</td>\n",
              "      <td>Giao thông</td>\n",
              "      <td>Fake</td>\n",
              "      <td>Ôtô đi ngược chiều bị phạt 800.000 đồng Theo k...</td>\n",
              "    </tr>\n",
              "    <tr>\n",
              "      <th>3</th>\n",
              "      <td>Chưa bao giờ nhạc Kpop lại dễ hát đến thế!!!</td>\n",
              "      <td>Chưa bao giờ nhạc Kpop lại dễ hát đến thế!!!\\n...</td>\n",
              "      <td>tintucqpvn.net</td>\n",
              "      <td>Giải trí</td>\n",
              "      <td>True</td>\n",
              "      <td>Chưa bao giờ nhạc Kpop lại dễ hát đến thế!!!Ch...</td>\n",
              "    </tr>\n",
              "    <tr>\n",
              "      <th>51</th>\n",
              "      <td>Xã hội đen Đài Loan mở tiệm mỳ miễn phí cho ng...</td>\n",
              "      <td>\\n Xã hội đen Italy dụ người nghèo hủy hoại ch...</td>\n",
              "      <td>vnexpress.net</td>\n",
              "      <td>Đời sống</td>\n",
              "      <td>Fake</td>\n",
              "      <td>Xã hội đen Đài Loan mở tiệm mỳ miễn phí cho ng...</td>\n",
              "    </tr>\n",
              "    <tr>\n",
              "      <th>140</th>\n",
              "      <td>Đòi quan hệ nhiều lần mà không có quà, nữ sinh...</td>\n",
              "      <td>Sau nhiều lần hứa tặng quà, cho tiền ân ái như...</td>\n",
              "      <td>NaN</td>\n",
              "      <td>Đời sống</td>\n",
              "      <td>True</td>\n",
              "      <td>Đòi quan hệ nhiều lần mà không có quà, nữ sinh...</td>\n",
              "    </tr>\n",
              "    <tr>\n",
              "      <th>64</th>\n",
              "      <td>Đội cảnh sát có khả năng siêu nhớ mặt tại Anh</td>\n",
              "      <td>Năm 2009, một nghiên cứu do nhà tâm lý học Ri...</td>\n",
              "      <td>vnexpress.net</td>\n",
              "      <td>An ninh</td>\n",
              "      <td>Fake</td>\n",
              "      <td>Đội cảnh sát có khả năng siêu nhớ mặt tại Anh ...</td>\n",
              "    </tr>\n",
              "  </tbody>\n",
              "</table>\n",
              "<p>299 rows × 6 columns</p>\n",
              "</div>\n",
              "      <button class=\"colab-df-convert\" onclick=\"convertToInteractive('df-9af07048-0d41-4efe-a0e9-cd998cdb0278')\"\n",
              "              title=\"Convert this dataframe to an interactive table.\"\n",
              "              style=\"display:none;\">\n",
              "        \n",
              "  <svg xmlns=\"http://www.w3.org/2000/svg\" height=\"24px\"viewBox=\"0 0 24 24\"\n",
              "       width=\"24px\">\n",
              "    <path d=\"M0 0h24v24H0V0z\" fill=\"none\"/>\n",
              "    <path d=\"M18.56 5.44l.94 2.06.94-2.06 2.06-.94-2.06-.94-.94-2.06-.94 2.06-2.06.94zm-11 1L8.5 8.5l.94-2.06 2.06-.94-2.06-.94L8.5 2.5l-.94 2.06-2.06.94zm10 10l.94 2.06.94-2.06 2.06-.94-2.06-.94-.94-2.06-.94 2.06-2.06.94z\"/><path d=\"M17.41 7.96l-1.37-1.37c-.4-.4-.92-.59-1.43-.59-.52 0-1.04.2-1.43.59L10.3 9.45l-7.72 7.72c-.78.78-.78 2.05 0 2.83L4 21.41c.39.39.9.59 1.41.59.51 0 1.02-.2 1.41-.59l7.78-7.78 2.81-2.81c.8-.78.8-2.07 0-2.86zM5.41 20L4 18.59l7.72-7.72 1.47 1.35L5.41 20z\"/>\n",
              "  </svg>\n",
              "      </button>\n",
              "      \n",
              "  <style>\n",
              "    .colab-df-container {\n",
              "      display:flex;\n",
              "      flex-wrap:wrap;\n",
              "      gap: 12px;\n",
              "    }\n",
              "\n",
              "    .colab-df-convert {\n",
              "      background-color: #E8F0FE;\n",
              "      border: none;\n",
              "      border-radius: 50%;\n",
              "      cursor: pointer;\n",
              "      display: none;\n",
              "      fill: #1967D2;\n",
              "      height: 32px;\n",
              "      padding: 0 0 0 0;\n",
              "      width: 32px;\n",
              "    }\n",
              "\n",
              "    .colab-df-convert:hover {\n",
              "      background-color: #E2EBFA;\n",
              "      box-shadow: 0px 1px 2px rgba(60, 64, 67, 0.3), 0px 1px 3px 1px rgba(60, 64, 67, 0.15);\n",
              "      fill: #174EA6;\n",
              "    }\n",
              "\n",
              "    [theme=dark] .colab-df-convert {\n",
              "      background-color: #3B4455;\n",
              "      fill: #D2E3FC;\n",
              "    }\n",
              "\n",
              "    [theme=dark] .colab-df-convert:hover {\n",
              "      background-color: #434B5C;\n",
              "      box-shadow: 0px 1px 3px 1px rgba(0, 0, 0, 0.15);\n",
              "      filter: drop-shadow(0px 1px 2px rgba(0, 0, 0, 0.3));\n",
              "      fill: #FFFFFF;\n",
              "    }\n",
              "  </style>\n",
              "\n",
              "      <script>\n",
              "        const buttonEl =\n",
              "          document.querySelector('#df-9af07048-0d41-4efe-a0e9-cd998cdb0278 button.colab-df-convert');\n",
              "        buttonEl.style.display =\n",
              "          google.colab.kernel.accessAllowed ? 'block' : 'none';\n",
              "\n",
              "        async function convertToInteractive(key) {\n",
              "          const element = document.querySelector('#df-9af07048-0d41-4efe-a0e9-cd998cdb0278');\n",
              "          const dataTable =\n",
              "            await google.colab.kernel.invokeFunction('convertToInteractive',\n",
              "                                                     [key], {});\n",
              "          if (!dataTable) return;\n",
              "\n",
              "          const docLinkHtml = 'Like what you see? Visit the ' +\n",
              "            '<a target=\"_blank\" href=https://colab.research.google.com/notebooks/data_table.ipynb>data table notebook</a>'\n",
              "            + ' to learn more about interactive tables.';\n",
              "          element.innerHTML = '';\n",
              "          dataTable['output_type'] = 'display_data';\n",
              "          await google.colab.output.renderOutput(dataTable, element);\n",
              "          const docLink = document.createElement('div');\n",
              "          docLink.innerHTML = docLinkHtml;\n",
              "          element.appendChild(docLink);\n",
              "        }\n",
              "      </script>\n",
              "    </div>\n",
              "  </div>\n",
              "  "
            ]
          },
          "metadata": {},
          "execution_count": 20
        }
      ]
    },
    {
      "cell_type": "code",
      "source": [
        "import nltk \n",
        "nltk.download('stopwords')\n",
        "#Data Cleaning\n",
        "from nltk.corpus import stopwords\n",
        "import string"
      ],
      "metadata": {
        "colab": {
          "base_uri": "https://localhost:8080/"
        },
        "id": "xGUp87mIj8qb",
        "outputId": "d9480218-362c-4e65-c0be-faf5e4b4cf11"
      },
      "execution_count": null,
      "outputs": [
        {
          "output_type": "stream",
          "name": "stderr",
          "text": [
            "[nltk_data] Downloading package stopwords to /root/nltk_data...\n",
            "[nltk_data]   Unzipping corpora/stopwords.zip.\n"
          ]
        }
      ]
    },
    {
      "cell_type": "code",
      "source": [
        "def process_text(s):\n",
        "\n",
        "    # Check string to see if they are a punctuation\n",
        "    nopunc = [char for char in s if char not in string.punctuation]\n",
        "\n",
        "    # Join the characters again to form the string.\n",
        "    nopunc = ''.join(nopunc)\n",
        "    \n",
        "    # Convert string to lowercase and remove stopwords\n",
        "    clean_string = [word for word in nopunc.split()]\n",
        "    return clean_string"
      ],
      "metadata": {
        "id": "gqKyNflCkDBD"
      },
      "execution_count": null,
      "outputs": []
    },
    {
      "cell_type": "code",
      "source": [
        "# Tokenize the Article\n",
        "#rerun, takes LOOOONG\n",
        "news['Clean Text'] = news['Article'].apply(process_text)"
      ],
      "metadata": {
        "id": "VAFXtDvYkG9G"
      },
      "execution_count": null,
      "outputs": []
    },
    {
      "cell_type": "code",
      "source": [
        "from sklearn.feature_extraction.text import CountVectorizer"
      ],
      "metadata": {
        "id": "yURZTpejkJN2"
      },
      "execution_count": null,
      "outputs": []
    },
    {
      "cell_type": "code",
      "source": [
        "bow_transformer = CountVectorizer(analyzer=process_text).fit(news['Clean Text'])\n",
        "\n",
        "print(len(bow_transformer.vocabulary_)) #Total vocab words\n"
      ],
      "metadata": {
        "colab": {
          "base_uri": "https://localhost:8080/"
        },
        "id": "BjHwZAuzkNL5",
        "outputId": "634c56ff-72ff-4173-9549-5fc19cf40fb1"
      },
      "execution_count": null,
      "outputs": [
        {
          "output_type": "stream",
          "name": "stdout",
          "text": [
            "298\n"
          ]
        }
      ]
    },
    {
      "cell_type": "code",
      "source": [
        "#Bag-of-Words (bow) transform the entire DataFrame of text\n",
        "news_bow = bow_transformer.transform(news['Clean Text'])"
      ],
      "metadata": {
        "id": "satsrL0MkP3s"
      },
      "execution_count": null,
      "outputs": []
    },
    {
      "cell_type": "code",
      "source": [
        "print('Shape of Sparse Matrix: ', news_bow.shape)\n",
        "print('Amount of Non-Zero occurences: ', news_bow.nnz)"
      ],
      "metadata": {
        "colab": {
          "base_uri": "https://localhost:8080/"
        },
        "id": "pYGzNi6PkSeS",
        "outputId": "315547f0-1efc-477f-9593-8ba7a07bad1d"
      },
      "execution_count": null,
      "outputs": [
        {
          "output_type": "stream",
          "name": "stdout",
          "text": [
            "Shape of Sparse Matrix:  (299, 298)\n",
            "Amount of Non-Zero occurences:  299\n"
          ]
        }
      ]
    },
    {
      "cell_type": "code",
      "source": [
        "sparsity = (100.0 * news_bow.nnz / (news_bow.shape[0] * news_bow.shape[1]))\n",
        "print('sparsity: {}'.format(round(sparsity)))"
      ],
      "metadata": {
        "colab": {
          "base_uri": "https://localhost:8080/"
        },
        "id": "7l8xeaOAkUr8",
        "outputId": "1f8a3dd6-1244-407d-f8d2-117e60da981f"
      },
      "execution_count": null,
      "outputs": [
        {
          "output_type": "stream",
          "name": "stdout",
          "text": [
            "sparsity: 0\n"
          ]
        }
      ]
    },
    {
      "cell_type": "code",
      "source": [
        "from sklearn.feature_extraction.text import TfidfTransformer\n",
        "\n",
        "tfidf_transformer = TfidfTransformer().fit(news_bow)\n",
        "news_tfidf = tfidf_transformer.transform(news_bow)\n",
        "print(news_tfidf.shape)"
      ],
      "metadata": {
        "colab": {
          "base_uri": "https://localhost:8080/"
        },
        "id": "utNmEeKskXXn",
        "outputId": "587236a7-a337-410c-9c5d-0eb5649d7207"
      },
      "execution_count": null,
      "outputs": [
        {
          "output_type": "stream",
          "name": "stdout",
          "text": [
            "(299, 298)\n"
          ]
        }
      ]
    },
    {
      "cell_type": "code",
      "source": [
        "#Train SVM model\n",
        "from sklearn.svm import SVC\n",
        "fakenews_detect_model = SVC(kernel = 'linear', random_state = 0).fit(news_tfidf, news['True/Fake'])\n"
      ],
      "metadata": {
        "id": "7d0amtmmkZVm"
      },
      "execution_count": null,
      "outputs": []
    },
    {
      "cell_type": "code",
      "source": [
        "#Model Evaluation\n",
        "predictions = fakenews_detect_model.predict(news_tfidf)\n",
        "print(predictions)"
      ],
      "metadata": {
        "colab": {
          "base_uri": "https://localhost:8080/"
        },
        "id": "JfSyqaoWleUS",
        "outputId": "e12848f2-835e-48f1-e457-aaa4ac16cf66"
      },
      "execution_count": null,
      "outputs": [
        {
          "output_type": "stream",
          "name": "stdout",
          "text": [
            "['True' 'True' 'True' 'True' 'True' 'True' 'True' 'True' 'True' 'True'\n",
            " 'True' 'True' 'True' 'True' 'True' 'True' 'True' 'True' 'True' 'True'\n",
            " 'True' 'True' 'True' 'True' 'True' 'True' 'True' 'True' 'True' 'True'\n",
            " 'True' 'True' 'True' 'True' 'True' 'True' 'True' 'True' 'True' 'True'\n",
            " 'True' 'True' 'True' 'True' 'True' 'True' 'True' 'True' 'True' 'True'\n",
            " 'True' 'True' 'True' 'True' 'True' 'True' 'True' 'True' 'True' 'True'\n",
            " 'True' 'True' 'True' 'True' 'True' 'True' 'True' 'True' 'True' 'True'\n",
            " 'True' 'True' 'True' 'True' 'True' 'True' 'True' 'True' 'True' 'True'\n",
            " 'True' 'True' 'True' 'True' 'True' 'True' 'True' 'True' 'True' 'True'\n",
            " 'True' 'True' 'True' 'True' 'True' 'True' 'True' 'True' 'True' 'True'\n",
            " 'True' 'True' 'True' 'True' 'True' 'True' 'True' 'True' 'True' 'True'\n",
            " 'True' 'True' 'True' 'True' 'True' 'True' 'True' 'True' 'True' 'True'\n",
            " 'True' 'True' 'True' 'True' 'True' 'True' 'True' 'True' 'True' 'True'\n",
            " 'True' 'True' 'True' 'True' 'True' 'True' 'True' 'True' 'True' 'True'\n",
            " 'True' 'True' 'True' 'True' 'True' 'True' 'True' 'True' 'True' 'Fake'\n",
            " 'Fake' 'Fake' 'Fake' 'Fake' 'Fake' 'Fake' 'Fake' 'Fake' 'Fake' 'Fake'\n",
            " 'Fake' 'Fake' 'Fake' 'Fake' 'Fake' 'Fake' 'Fake' 'Fake' 'Fake' 'Fake'\n",
            " 'Fake' 'Fake' 'Fake' 'Fake' 'Fake' 'Fake' 'Fake' 'Fake' 'Fake' 'Fake'\n",
            " 'Fake' 'Fake' 'Fake' 'Fake' 'Fake' 'Fake' 'Fake' 'Fake' 'Fake' 'Fake'\n",
            " 'Fake' 'Fake' 'Fake' 'Fake' 'Fake' 'Fake' 'Fake' 'Fake' 'Fake' 'Fake'\n",
            " 'Fake' 'Fake' 'Fake' 'Fake' 'Fake' 'Fake' 'Fake' 'Fake' 'Fake' 'Fake'\n",
            " 'Fake' 'Fake' 'Fake' 'Fake' 'Fake' 'Fake' 'Fake' 'Fake' 'Fake' 'Fake'\n",
            " 'Fake' 'Fake' 'Fake' 'Fake' 'Fake' 'Fake' 'Fake' 'Fake' 'Fake' 'Fake'\n",
            " 'Fake' 'Fake' 'Fake' 'Fake' 'Fake' 'Fake' 'Fake' 'Fake' 'Fake' 'Fake'\n",
            " 'Fake' 'Fake' 'Fake' 'Fake' 'Fake' 'Fake' 'Fake' 'Fake' 'Fake' 'Fake'\n",
            " 'Fake' 'Fake' 'Fake' 'Fake' 'Fake' 'Fake' 'Fake' 'Fake' 'Fake' 'Fake'\n",
            " 'Fake' 'Fake' 'Fake' 'Fake' 'Fake' 'Fake' 'Fake' 'Fake' 'Fake' 'Fake'\n",
            " 'Fake' 'Fake' 'Fake' 'Fake' 'Fake' 'Fake' 'Fake' 'Fake' 'Fake' 'Fake'\n",
            " 'Fake' 'Fake' 'Fake' 'Fake' 'Fake' 'Fake' 'Fake' 'Fake' 'Fake' 'Fake'\n",
            " 'Fake' 'Fake' 'Fake' 'Fake' 'Fake' 'Fake' 'Fake' 'Fake' 'Fake']\n"
          ]
        }
      ]
    },
    {
      "cell_type": "code",
      "source": [
        "from sklearn.metrics import classification_report\n",
        "print (classification_report(news['True/Fake'], predictions))\n"
      ],
      "metadata": {
        "colab": {
          "base_uri": "https://localhost:8080/"
        },
        "id": "l788t_ZklkKR",
        "outputId": "92953361-e089-49c9-c730-a504580b374e"
      },
      "execution_count": null,
      "outputs": [
        {
          "output_type": "stream",
          "name": "stdout",
          "text": [
            "              precision    recall  f1-score   support\n",
            "\n",
            "        Fake       1.00      1.00      1.00       150\n",
            "        True       1.00      1.00      1.00       149\n",
            "\n",
            "    accuracy                           1.00       299\n",
            "   macro avg       1.00      1.00      1.00       299\n",
            "weighted avg       1.00      1.00      1.00       299\n",
            "\n"
          ]
        }
      ]
    },
    {
      "cell_type": "code",
      "source": [
        "from sklearn.model_selection import train_test_split\n",
        "\n",
        "news_train, news_test, text_train, text_test = train_test_split(news['Article'], news['True/Fake'], test_size=0.3)\n",
        "\n",
        "print(len(news_train), len(news_test), len(news_train) + len(news_test))"
      ],
      "metadata": {
        "colab": {
          "base_uri": "https://localhost:8080/"
        },
        "id": "Mlfcjt8Elm0H",
        "outputId": "cb4e55d2-7acf-4251-bbad-e6f6f3e445ee"
      },
      "execution_count": null,
      "outputs": [
        {
          "output_type": "stream",
          "name": "stdout",
          "text": [
            "209 90 299\n"
          ]
        }
      ]
    },
    {
      "cell_type": "code",
      "source": [
        "from sklearn.pipeline import Pipeline\n",
        "\n",
        "pipeline = Pipeline([\n",
        "    ('bow', CountVectorizer(analyzer=process_text)),  \n",
        "    ('tfidf', TfidfTransformer()),  \n",
        "    ('classifier', SVC(kernel = 'linear', random_state = 0)),  \n",
        "])\n",
        "pipeline.fit(news_train,text_train)"
      ],
      "metadata": {
        "colab": {
          "base_uri": "https://localhost:8080/"
        },
        "id": "rF6pSOtilqK1",
        "outputId": "9503e4eb-b2fe-4ba9-f04f-934ea88f46a4"
      },
      "execution_count": null,
      "outputs": [
        {
          "output_type": "execute_result",
          "data": {
            "text/plain": [
              "Pipeline(steps=[('bow',\n",
              "                 CountVectorizer(analyzer=<function process_text at 0x7f7d09944280>)),\n",
              "                ('tfidf', TfidfTransformer()),\n",
              "                ('classifier', SVC(kernel='linear', random_state=0))])"
            ]
          },
          "metadata": {},
          "execution_count": 35
        }
      ]
    },
    {
      "cell_type": "code",
      "source": [
        "prediction = pipeline.predict(news_test)"
      ],
      "metadata": {
        "id": "PASVO5t7lx0N"
      },
      "execution_count": null,
      "outputs": []
    },
    {
      "cell_type": "code",
      "source": [
        "print(classification_report(prediction,text_test))"
      ],
      "metadata": {
        "colab": {
          "base_uri": "https://localhost:8080/"
        },
        "id": "fxXdAquUl1JI",
        "outputId": "1192e988-933f-4649-9547-eb278a0bafc2"
      },
      "execution_count": null,
      "outputs": [
        {
          "output_type": "stream",
          "name": "stdout",
          "text": [
            "              precision    recall  f1-score   support\n",
            "\n",
            "        Fake       0.92      0.80      0.85        44\n",
            "        True       0.83      0.93      0.88        46\n",
            "\n",
            "    accuracy                           0.87        90\n",
            "   macro avg       0.87      0.87      0.87        90\n",
            "weighted avg       0.87      0.87      0.87        90\n",
            "\n"
          ]
        }
      ]
    },
    {
      "cell_type": "markdown",
      "source": [
        "# Mục mới"
      ],
      "metadata": {
        "id": "ySDZmavQQ3eR"
      }
    }
  ]
}