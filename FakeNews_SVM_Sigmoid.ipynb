{
  "nbformat": 4,
  "nbformat_minor": 0,
  "metadata": {
    "colab": {
      "provenance": [],
      "authorship_tag": "ABX9TyOP45OaDwijNaipPnKngJmk",
      "include_colab_link": true
    },
    "kernelspec": {
      "name": "python3",
      "display_name": "Python 3"
    },
    "language_info": {
      "name": "python"
    }
  },
  "cells": [
    {
      "cell_type": "markdown",
      "metadata": {
        "id": "view-in-github",
        "colab_type": "text"
      },
      "source": [
        "<a href=\"https://colab.research.google.com/github/angelinawong1210/VietnameseFakeNews/blob/main/FakeNews_SVM_Sigmoid.ipynb\" target=\"_parent\"><img src=\"https://colab.research.google.com/assets/colab-badge.svg\" alt=\"Open In Colab\"/></a>"
      ]
    },
    {
      "cell_type": "code",
      "source": [
        "import numpy as np # linear algebra\n",
        "import pandas as pd # data processing, CSV file I/O (e.g. pd.read_csv)"
      ],
      "metadata": {
        "id": "qJZ80pEfjybS"
      },
      "execution_count": null,
      "outputs": []
    },
    {
      "cell_type": "code",
      "source": [
        "truenews = pd.read_csv('/content/Fake.csv')\n",
        "fakenews = pd.read_csv('/content/Real.csv')"
      ],
      "metadata": {
        "id": "IeASuSQAj1hq"
      },
      "execution_count": null,
      "outputs": []
    },
    {
      "cell_type": "code",
      "source": [
        "truenews['True/Fake']='True'\n",
        "fakenews['True/Fake']='Fake'"
      ],
      "metadata": {
        "id": "kDMHyIfJj3YZ"
      },
      "execution_count": null,
      "outputs": []
    },
    {
      "cell_type": "code",
      "source": [
        "# Combine the 2 DataFrames into a single data frame\n",
        "news = pd.concat([truenews, fakenews])\n",
        "news[\"Article\"] = news[\"tittle\"] + news[\"text\"]\n",
        "news.sample(frac = 1) #Shuffle 100%"
      ],
      "metadata": {
        "colab": {
          "base_uri": "https://localhost:8080/",
          "height": 641
        },
        "id": "G4kJsNpmj6uc",
        "outputId": "f10c1bb8-7906-44c9-98ea-1d4afac72aea"
      },
      "execution_count": null,
      "outputs": [
        {
          "output_type": "execute_result",
          "data": {
            "text/plain": [
              "                                                tittle  \\\n",
              "44   Chủ đầu tư nói gì về chuyện BOT An Sương - An ...   \n",
              "56   Tại sao Apple chưa bao giờ quảng cáo trên mạng...   \n",
              "78                   Sẽ bỏ quản lý dân cư bằng hộ khẩu   \n",
              "48   Ôtô ở Sài Gòn cuốn hàng loạt người, xe máy vào...   \n",
              "138  Chân dung yêu râu xanh nhẫn tâm sát hại thiếu ...   \n",
              "..                                                 ...   \n",
              "8    Kinh hoàng bé gái bị chó nhà tấn công, cắn vào...   \n",
              "105             Nghiên cứu: Tóc bạc có thể đen trở lại   \n",
              "109  Cái kết đắng lòng của cô gái chê chàng trai nghèo   \n",
              "137  Nữ sinh một mình cân 6 thanh niên suốt đêm tro...   \n",
              "110   Dùng dao đâm chết người vì xích mích lúc đổ xăng   \n",
              "\n",
              "                                                  text               domain  \\\n",
              "44    Vụ BOT An Sương - An Lạc “thu phí quá hạn”: C...         thanhnien.vn   \n",
              "56    Tài khoản chính thức của Apple có hơn 11 triệ...  sohoa.vnexpress.net   \n",
              "78    Chính phủ vừa ra Nghị quyết 112 về việc đơn g...        vnexpress.net   \n",
              "48    Hiện trường tai nạn. Ảnh: Quế Biên.\\n Tối 5/1...        vnexpress.net   \n",
              "138  Chưa dừng lại cơn điên cuồng của một yêu râu x...                  NaN   \n",
              "..                                                 ...                  ...   \n",
              "8     Chiều 11.9, tại buổi giao ban báo chí Thành ủ...       tintucqpvn.net   \n",
              "105  Tóc bạc là một trong những dấu hiệu lão hóa. K...        trithucvn.org   \n",
              "109  Một chàng trai nghèo đã phải lòng con gái của ...           danviet.vn   \n",
              "137  Thông qua mạng xã hội Facebook và bạn bè bé gá...                  NaN   \n",
              "110   Ngày 9/12, tin từ Công an huyện Bố Trạch (Quả...        dantri.com.vn   \n",
              "\n",
              "           topic True/Fake                                            Article  \n",
              "44   Giao thông       Fake  Chủ đầu tư nói gì về chuyện BOT An Sương - An ...  \n",
              "56      Kinh tế       Fake  Tại sao Apple chưa bao giờ quảng cáo trên mạng...  \n",
              "78      An ninh       Fake  Sẽ bỏ quản lý dân cư bằng hộ khẩu Chính phủ vừ...  \n",
              "48   Giao thông       Fake  Ôtô ở Sài Gòn cuốn hàng loạt người, xe máy vào...  \n",
              "138    Đời sống       True  Chân dung yêu râu xanh nhẫn tâm sát hại thiếu ...  \n",
              "..           ...       ...                                                ...  \n",
              "8      Đời sống       True  Kinh hoàng bé gái bị chó nhà tấn công, cắn vào...  \n",
              "105        Y tế       True  Nghiên cứu: Tóc bạc có thể đen trở lạiTóc bạc ...  \n",
              "109    Đời sống       True  Cái kết đắng lòng của cô gái chê chàng trai ng...  \n",
              "137    Đời sống       True  Nữ sinh một mình cân 6 thanh niên suốt đêm tro...  \n",
              "110     An ninh       Fake  Dùng dao đâm chết người vì xích mích lúc đổ xă...  \n",
              "\n",
              "[299 rows x 6 columns]"
            ],
            "text/html": [
              "\n",
              "  <div id=\"df-939ea125-3e03-4c1c-9116-e4e5b936fd7f\">\n",
              "    <div class=\"colab-df-container\">\n",
              "      <div>\n",
              "<style scoped>\n",
              "    .dataframe tbody tr th:only-of-type {\n",
              "        vertical-align: middle;\n",
              "    }\n",
              "\n",
              "    .dataframe tbody tr th {\n",
              "        vertical-align: top;\n",
              "    }\n",
              "\n",
              "    .dataframe thead th {\n",
              "        text-align: right;\n",
              "    }\n",
              "</style>\n",
              "<table border=\"1\" class=\"dataframe\">\n",
              "  <thead>\n",
              "    <tr style=\"text-align: right;\">\n",
              "      <th></th>\n",
              "      <th>tittle</th>\n",
              "      <th>text</th>\n",
              "      <th>domain</th>\n",
              "      <th>topic</th>\n",
              "      <th>True/Fake</th>\n",
              "      <th>Article</th>\n",
              "    </tr>\n",
              "  </thead>\n",
              "  <tbody>\n",
              "    <tr>\n",
              "      <th>44</th>\n",
              "      <td>Chủ đầu tư nói gì về chuyện BOT An Sương - An ...</td>\n",
              "      <td>Vụ BOT An Sương - An Lạc “thu phí quá hạn”: C...</td>\n",
              "      <td>thanhnien.vn</td>\n",
              "      <td>Giao thông</td>\n",
              "      <td>Fake</td>\n",
              "      <td>Chủ đầu tư nói gì về chuyện BOT An Sương - An ...</td>\n",
              "    </tr>\n",
              "    <tr>\n",
              "      <th>56</th>\n",
              "      <td>Tại sao Apple chưa bao giờ quảng cáo trên mạng...</td>\n",
              "      <td>Tài khoản chính thức của Apple có hơn 11 triệ...</td>\n",
              "      <td>sohoa.vnexpress.net</td>\n",
              "      <td>Kinh tế</td>\n",
              "      <td>Fake</td>\n",
              "      <td>Tại sao Apple chưa bao giờ quảng cáo trên mạng...</td>\n",
              "    </tr>\n",
              "    <tr>\n",
              "      <th>78</th>\n",
              "      <td>Sẽ bỏ quản lý dân cư bằng hộ khẩu</td>\n",
              "      <td>Chính phủ vừa ra Nghị quyết 112 về việc đơn g...</td>\n",
              "      <td>vnexpress.net</td>\n",
              "      <td>An ninh</td>\n",
              "      <td>Fake</td>\n",
              "      <td>Sẽ bỏ quản lý dân cư bằng hộ khẩu Chính phủ vừ...</td>\n",
              "    </tr>\n",
              "    <tr>\n",
              "      <th>48</th>\n",
              "      <td>Ôtô ở Sài Gòn cuốn hàng loạt người, xe máy vào...</td>\n",
              "      <td>Hiện trường tai nạn. Ảnh: Quế Biên.\\n Tối 5/1...</td>\n",
              "      <td>vnexpress.net</td>\n",
              "      <td>Giao thông</td>\n",
              "      <td>Fake</td>\n",
              "      <td>Ôtô ở Sài Gòn cuốn hàng loạt người, xe máy vào...</td>\n",
              "    </tr>\n",
              "    <tr>\n",
              "      <th>138</th>\n",
              "      <td>Chân dung yêu râu xanh nhẫn tâm sát hại thiếu ...</td>\n",
              "      <td>Chưa dừng lại cơn điên cuồng của một yêu râu x...</td>\n",
              "      <td>NaN</td>\n",
              "      <td>Đời sống</td>\n",
              "      <td>True</td>\n",
              "      <td>Chân dung yêu râu xanh nhẫn tâm sát hại thiếu ...</td>\n",
              "    </tr>\n",
              "    <tr>\n",
              "      <th>...</th>\n",
              "      <td>...</td>\n",
              "      <td>...</td>\n",
              "      <td>...</td>\n",
              "      <td>...</td>\n",
              "      <td>...</td>\n",
              "      <td>...</td>\n",
              "    </tr>\n",
              "    <tr>\n",
              "      <th>8</th>\n",
              "      <td>Kinh hoàng bé gái bị chó nhà tấn công, cắn vào...</td>\n",
              "      <td>Chiều 11.9, tại buổi giao ban báo chí Thành ủ...</td>\n",
              "      <td>tintucqpvn.net</td>\n",
              "      <td>Đời sống</td>\n",
              "      <td>True</td>\n",
              "      <td>Kinh hoàng bé gái bị chó nhà tấn công, cắn vào...</td>\n",
              "    </tr>\n",
              "    <tr>\n",
              "      <th>105</th>\n",
              "      <td>Nghiên cứu: Tóc bạc có thể đen trở lại</td>\n",
              "      <td>Tóc bạc là một trong những dấu hiệu lão hóa. K...</td>\n",
              "      <td>trithucvn.org</td>\n",
              "      <td>Y tế</td>\n",
              "      <td>True</td>\n",
              "      <td>Nghiên cứu: Tóc bạc có thể đen trở lạiTóc bạc ...</td>\n",
              "    </tr>\n",
              "    <tr>\n",
              "      <th>109</th>\n",
              "      <td>Cái kết đắng lòng của cô gái chê chàng trai nghèo</td>\n",
              "      <td>Một chàng trai nghèo đã phải lòng con gái của ...</td>\n",
              "      <td>danviet.vn</td>\n",
              "      <td>Đời sống</td>\n",
              "      <td>True</td>\n",
              "      <td>Cái kết đắng lòng của cô gái chê chàng trai ng...</td>\n",
              "    </tr>\n",
              "    <tr>\n",
              "      <th>137</th>\n",
              "      <td>Nữ sinh một mình cân 6 thanh niên suốt đêm tro...</td>\n",
              "      <td>Thông qua mạng xã hội Facebook và bạn bè bé gá...</td>\n",
              "      <td>NaN</td>\n",
              "      <td>Đời sống</td>\n",
              "      <td>True</td>\n",
              "      <td>Nữ sinh một mình cân 6 thanh niên suốt đêm tro...</td>\n",
              "    </tr>\n",
              "    <tr>\n",
              "      <th>110</th>\n",
              "      <td>Dùng dao đâm chết người vì xích mích lúc đổ xăng</td>\n",
              "      <td>Ngày 9/12, tin từ Công an huyện Bố Trạch (Quả...</td>\n",
              "      <td>dantri.com.vn</td>\n",
              "      <td>An ninh</td>\n",
              "      <td>Fake</td>\n",
              "      <td>Dùng dao đâm chết người vì xích mích lúc đổ xă...</td>\n",
              "    </tr>\n",
              "  </tbody>\n",
              "</table>\n",
              "<p>299 rows × 6 columns</p>\n",
              "</div>\n",
              "      <button class=\"colab-df-convert\" onclick=\"convertToInteractive('df-939ea125-3e03-4c1c-9116-e4e5b936fd7f')\"\n",
              "              title=\"Convert this dataframe to an interactive table.\"\n",
              "              style=\"display:none;\">\n",
              "        \n",
              "  <svg xmlns=\"http://www.w3.org/2000/svg\" height=\"24px\"viewBox=\"0 0 24 24\"\n",
              "       width=\"24px\">\n",
              "    <path d=\"M0 0h24v24H0V0z\" fill=\"none\"/>\n",
              "    <path d=\"M18.56 5.44l.94 2.06.94-2.06 2.06-.94-2.06-.94-.94-2.06-.94 2.06-2.06.94zm-11 1L8.5 8.5l.94-2.06 2.06-.94-2.06-.94L8.5 2.5l-.94 2.06-2.06.94zm10 10l.94 2.06.94-2.06 2.06-.94-2.06-.94-.94-2.06-.94 2.06-2.06.94z\"/><path d=\"M17.41 7.96l-1.37-1.37c-.4-.4-.92-.59-1.43-.59-.52 0-1.04.2-1.43.59L10.3 9.45l-7.72 7.72c-.78.78-.78 2.05 0 2.83L4 21.41c.39.39.9.59 1.41.59.51 0 1.02-.2 1.41-.59l7.78-7.78 2.81-2.81c.8-.78.8-2.07 0-2.86zM5.41 20L4 18.59l7.72-7.72 1.47 1.35L5.41 20z\"/>\n",
              "  </svg>\n",
              "      </button>\n",
              "      \n",
              "  <style>\n",
              "    .colab-df-container {\n",
              "      display:flex;\n",
              "      flex-wrap:wrap;\n",
              "      gap: 12px;\n",
              "    }\n",
              "\n",
              "    .colab-df-convert {\n",
              "      background-color: #E8F0FE;\n",
              "      border: none;\n",
              "      border-radius: 50%;\n",
              "      cursor: pointer;\n",
              "      display: none;\n",
              "      fill: #1967D2;\n",
              "      height: 32px;\n",
              "      padding: 0 0 0 0;\n",
              "      width: 32px;\n",
              "    }\n",
              "\n",
              "    .colab-df-convert:hover {\n",
              "      background-color: #E2EBFA;\n",
              "      box-shadow: 0px 1px 2px rgba(60, 64, 67, 0.3), 0px 1px 3px 1px rgba(60, 64, 67, 0.15);\n",
              "      fill: #174EA6;\n",
              "    }\n",
              "\n",
              "    [theme=dark] .colab-df-convert {\n",
              "      background-color: #3B4455;\n",
              "      fill: #D2E3FC;\n",
              "    }\n",
              "\n",
              "    [theme=dark] .colab-df-convert:hover {\n",
              "      background-color: #434B5C;\n",
              "      box-shadow: 0px 1px 3px 1px rgba(0, 0, 0, 0.15);\n",
              "      filter: drop-shadow(0px 1px 2px rgba(0, 0, 0, 0.3));\n",
              "      fill: #FFFFFF;\n",
              "    }\n",
              "  </style>\n",
              "\n",
              "      <script>\n",
              "        const buttonEl =\n",
              "          document.querySelector('#df-939ea125-3e03-4c1c-9116-e4e5b936fd7f button.colab-df-convert');\n",
              "        buttonEl.style.display =\n",
              "          google.colab.kernel.accessAllowed ? 'block' : 'none';\n",
              "\n",
              "        async function convertToInteractive(key) {\n",
              "          const element = document.querySelector('#df-939ea125-3e03-4c1c-9116-e4e5b936fd7f');\n",
              "          const dataTable =\n",
              "            await google.colab.kernel.invokeFunction('convertToInteractive',\n",
              "                                                     [key], {});\n",
              "          if (!dataTable) return;\n",
              "\n",
              "          const docLinkHtml = 'Like what you see? Visit the ' +\n",
              "            '<a target=\"_blank\" href=https://colab.research.google.com/notebooks/data_table.ipynb>data table notebook</a>'\n",
              "            + ' to learn more about interactive tables.';\n",
              "          element.innerHTML = '';\n",
              "          dataTable['output_type'] = 'display_data';\n",
              "          await google.colab.output.renderOutput(dataTable, element);\n",
              "          const docLink = document.createElement('div');\n",
              "          docLink.innerHTML = docLinkHtml;\n",
              "          element.appendChild(docLink);\n",
              "        }\n",
              "      </script>\n",
              "    </div>\n",
              "  </div>\n",
              "  "
            ]
          },
          "metadata": {},
          "execution_count": 24
        }
      ]
    },
    {
      "cell_type": "code",
      "source": [
        "import nltk \n",
        "nltk.download('stopwords')\n",
        "#Data Cleaning\n",
        "from nltk.corpus import stopwords\n",
        "import string"
      ],
      "metadata": {
        "colab": {
          "base_uri": "https://localhost:8080/"
        },
        "id": "xGUp87mIj8qb",
        "outputId": "b28be89f-bc64-4be5-a2ed-882526c8e67f"
      },
      "execution_count": null,
      "outputs": [
        {
          "output_type": "stream",
          "name": "stderr",
          "text": [
            "[nltk_data] Downloading package stopwords to /root/nltk_data...\n",
            "[nltk_data]   Package stopwords is already up-to-date!\n"
          ]
        }
      ]
    },
    {
      "cell_type": "code",
      "source": [
        "def process_text(s):\n",
        "\n",
        "    # Check string to see if they are a punctuation\n",
        "    nopunc = [char for char in s if char not in string.punctuation]\n",
        "\n",
        "    # Join the characters again to form the string.\n",
        "    nopunc = ''.join(nopunc)\n",
        "    \n",
        "    # Convert string to lowercase and remove stopwords\n",
        "    clean_string = [word for word in nopunc.split()]\n",
        "    return clean_string"
      ],
      "metadata": {
        "id": "gqKyNflCkDBD"
      },
      "execution_count": null,
      "outputs": []
    },
    {
      "cell_type": "code",
      "source": [
        "# Tokenize the Article\n",
        "#rerun, takes LOOOONG\n",
        "news['Clean Text'] = news['Article'].apply(process_text)"
      ],
      "metadata": {
        "id": "VAFXtDvYkG9G"
      },
      "execution_count": null,
      "outputs": []
    },
    {
      "cell_type": "code",
      "source": [
        "from sklearn.feature_extraction.text import CountVectorizer"
      ],
      "metadata": {
        "id": "yURZTpejkJN2"
      },
      "execution_count": null,
      "outputs": []
    },
    {
      "cell_type": "code",
      "source": [
        "bow_transformer = CountVectorizer(analyzer=process_text).fit(news['Clean Text'])\n",
        "\n",
        "print(len(bow_transformer.vocabulary_)) #Total vocab words\n"
      ],
      "metadata": {
        "colab": {
          "base_uri": "https://localhost:8080/"
        },
        "id": "BjHwZAuzkNL5",
        "outputId": "2520c330-de6e-4dcb-95e3-ba63bda6aaf4"
      },
      "execution_count": null,
      "outputs": [
        {
          "output_type": "stream",
          "name": "stdout",
          "text": [
            "298\n"
          ]
        }
      ]
    },
    {
      "cell_type": "code",
      "source": [
        "#Bag-of-Words (bow) transform the entire DataFrame of text\n",
        "news_bow = bow_transformer.transform(news['Clean Text'])"
      ],
      "metadata": {
        "id": "satsrL0MkP3s"
      },
      "execution_count": null,
      "outputs": []
    },
    {
      "cell_type": "code",
      "source": [
        "print('Shape of Sparse Matrix: ', news_bow.shape)\n",
        "print('Amount of Non-Zero occurences: ', news_bow.nnz)"
      ],
      "metadata": {
        "colab": {
          "base_uri": "https://localhost:8080/"
        },
        "id": "pYGzNi6PkSeS",
        "outputId": "06251d04-26ba-431a-b25b-125715d0d7dd"
      },
      "execution_count": null,
      "outputs": [
        {
          "output_type": "stream",
          "name": "stdout",
          "text": [
            "Shape of Sparse Matrix:  (299, 298)\n",
            "Amount of Non-Zero occurences:  299\n"
          ]
        }
      ]
    },
    {
      "cell_type": "code",
      "source": [
        "sparsity = (100.0 * news_bow.nnz / (news_bow.shape[0] * news_bow.shape[1]))\n",
        "print('sparsity: {}'.format(round(sparsity)))"
      ],
      "metadata": {
        "colab": {
          "base_uri": "https://localhost:8080/"
        },
        "id": "7l8xeaOAkUr8",
        "outputId": "d9d9cfdf-3b1d-4422-90f0-98bec243eb24"
      },
      "execution_count": null,
      "outputs": [
        {
          "output_type": "stream",
          "name": "stdout",
          "text": [
            "sparsity: 0\n"
          ]
        }
      ]
    },
    {
      "cell_type": "code",
      "source": [
        "from sklearn.feature_extraction.text import TfidfTransformer\n",
        "\n",
        "tfidf_transformer = TfidfTransformer().fit(news_bow)\n",
        "news_tfidf = tfidf_transformer.transform(news_bow)\n",
        "print(news_tfidf.shape)"
      ],
      "metadata": {
        "colab": {
          "base_uri": "https://localhost:8080/"
        },
        "id": "utNmEeKskXXn",
        "outputId": "d352ca31-a447-469c-e24f-d3ef2f588918"
      },
      "execution_count": null,
      "outputs": [
        {
          "output_type": "stream",
          "name": "stdout",
          "text": [
            "(299, 298)\n"
          ]
        }
      ]
    },
    {
      "cell_type": "code",
      "source": [
        "#Train SVM model\n",
        "from sklearn.svm import SVC\n",
        "fakenews_detect_model = SVC(kernel = 'sigmoid', random_state = 0).fit(news_tfidf, news['True/Fake'])\n"
      ],
      "metadata": {
        "id": "7d0amtmmkZVm"
      },
      "execution_count": null,
      "outputs": []
    },
    {
      "cell_type": "code",
      "source": [
        "#Model Evaluation\n",
        "predictions = fakenews_detect_model.predict(news_tfidf)\n",
        "print(predictions)"
      ],
      "metadata": {
        "colab": {
          "base_uri": "https://localhost:8080/"
        },
        "id": "JfSyqaoWleUS",
        "outputId": "e278f8dc-45c1-477f-f086-4e910964ed4a"
      },
      "execution_count": null,
      "outputs": [
        {
          "output_type": "stream",
          "name": "stdout",
          "text": [
            "['True' 'True' 'True' 'True' 'True' 'True' 'True' 'True' 'True' 'True'\n",
            " 'True' 'True' 'True' 'True' 'True' 'True' 'True' 'True' 'True' 'True'\n",
            " 'True' 'True' 'True' 'True' 'True' 'True' 'True' 'True' 'True' 'True'\n",
            " 'True' 'True' 'True' 'True' 'True' 'True' 'True' 'True' 'True' 'True'\n",
            " 'True' 'True' 'True' 'True' 'True' 'True' 'True' 'True' 'True' 'True'\n",
            " 'True' 'True' 'True' 'True' 'True' 'True' 'True' 'True' 'True' 'True'\n",
            " 'True' 'True' 'True' 'True' 'True' 'True' 'True' 'True' 'True' 'True'\n",
            " 'True' 'True' 'True' 'True' 'True' 'True' 'True' 'True' 'True' 'True'\n",
            " 'True' 'True' 'True' 'True' 'True' 'True' 'True' 'True' 'True' 'True'\n",
            " 'True' 'True' 'True' 'True' 'True' 'True' 'True' 'True' 'True' 'True'\n",
            " 'True' 'True' 'True' 'True' 'True' 'True' 'True' 'True' 'True' 'True'\n",
            " 'True' 'True' 'True' 'True' 'True' 'True' 'True' 'True' 'True' 'True'\n",
            " 'True' 'True' 'True' 'True' 'True' 'True' 'True' 'True' 'True' 'True'\n",
            " 'True' 'True' 'True' 'True' 'True' 'True' 'True' 'True' 'True' 'True'\n",
            " 'True' 'True' 'True' 'True' 'True' 'True' 'True' 'True' 'True' 'Fake'\n",
            " 'Fake' 'Fake' 'Fake' 'Fake' 'Fake' 'Fake' 'Fake' 'Fake' 'Fake' 'Fake'\n",
            " 'Fake' 'Fake' 'Fake' 'Fake' 'Fake' 'Fake' 'Fake' 'Fake' 'Fake' 'Fake'\n",
            " 'Fake' 'Fake' 'Fake' 'Fake' 'Fake' 'Fake' 'Fake' 'Fake' 'Fake' 'Fake'\n",
            " 'Fake' 'Fake' 'Fake' 'Fake' 'Fake' 'Fake' 'Fake' 'Fake' 'Fake' 'Fake'\n",
            " 'Fake' 'Fake' 'Fake' 'Fake' 'Fake' 'Fake' 'Fake' 'Fake' 'Fake' 'Fake'\n",
            " 'Fake' 'Fake' 'Fake' 'Fake' 'Fake' 'Fake' 'Fake' 'Fake' 'Fake' 'Fake'\n",
            " 'Fake' 'Fake' 'Fake' 'Fake' 'Fake' 'Fake' 'Fake' 'Fake' 'Fake' 'Fake'\n",
            " 'Fake' 'Fake' 'Fake' 'Fake' 'Fake' 'Fake' 'Fake' 'Fake' 'Fake' 'Fake'\n",
            " 'Fake' 'Fake' 'Fake' 'Fake' 'Fake' 'Fake' 'Fake' 'Fake' 'Fake' 'Fake'\n",
            " 'Fake' 'Fake' 'Fake' 'Fake' 'Fake' 'Fake' 'Fake' 'Fake' 'Fake' 'Fake'\n",
            " 'Fake' 'Fake' 'Fake' 'Fake' 'Fake' 'Fake' 'Fake' 'Fake' 'Fake' 'Fake'\n",
            " 'Fake' 'Fake' 'Fake' 'Fake' 'Fake' 'Fake' 'Fake' 'Fake' 'Fake' 'Fake'\n",
            " 'Fake' 'Fake' 'Fake' 'Fake' 'Fake' 'Fake' 'Fake' 'Fake' 'Fake' 'Fake'\n",
            " 'Fake' 'Fake' 'Fake' 'Fake' 'Fake' 'Fake' 'Fake' 'Fake' 'Fake' 'Fake'\n",
            " 'Fake' 'Fake' 'Fake' 'Fake' 'Fake' 'Fake' 'Fake' 'Fake' 'Fake']\n"
          ]
        }
      ]
    },
    {
      "cell_type": "code",
      "source": [
        "from sklearn.metrics import classification_report\n",
        "print (classification_report(news['True/Fake'], predictions))\n"
      ],
      "metadata": {
        "colab": {
          "base_uri": "https://localhost:8080/"
        },
        "id": "l788t_ZklkKR",
        "outputId": "da0ae6b7-fc74-4e19-b5ad-03dc8b9c6311"
      },
      "execution_count": null,
      "outputs": [
        {
          "output_type": "stream",
          "name": "stdout",
          "text": [
            "              precision    recall  f1-score   support\n",
            "\n",
            "        Fake       1.00      1.00      1.00       150\n",
            "        True       1.00      1.00      1.00       149\n",
            "\n",
            "    accuracy                           1.00       299\n",
            "   macro avg       1.00      1.00      1.00       299\n",
            "weighted avg       1.00      1.00      1.00       299\n",
            "\n"
          ]
        }
      ]
    },
    {
      "cell_type": "code",
      "source": [
        "from sklearn.model_selection import train_test_split\n",
        "\n",
        "news_train, news_test, text_train, text_test = train_test_split(news['Article'], news['True/Fake'], test_size=0.3)\n",
        "\n",
        "print(len(news_train), len(news_test), len(news_train) + len(news_test))"
      ],
      "metadata": {
        "colab": {
          "base_uri": "https://localhost:8080/"
        },
        "id": "Mlfcjt8Elm0H",
        "outputId": "2a60acc2-b3d9-45d9-fb39-08d7e0edef37"
      },
      "execution_count": null,
      "outputs": [
        {
          "output_type": "stream",
          "name": "stdout",
          "text": [
            "209 90 299\n"
          ]
        }
      ]
    },
    {
      "cell_type": "code",
      "source": [
        "from sklearn.pipeline import Pipeline\n",
        "\n",
        "pipeline = Pipeline([\n",
        "    ('bow', CountVectorizer(analyzer=process_text)),  \n",
        "    ('tfidf', TfidfTransformer()),  \n",
        "    ('classifier', SVC(kernel = 'sigmoid', random_state = 0)),  \n",
        "])\n",
        "pipeline.fit(news_train,text_train)"
      ],
      "metadata": {
        "colab": {
          "base_uri": "https://localhost:8080/"
        },
        "id": "rF6pSOtilqK1",
        "outputId": "59ba70c7-2332-4abc-bc76-83cafafdc7ee"
      },
      "execution_count": null,
      "outputs": [
        {
          "output_type": "execute_result",
          "data": {
            "text/plain": [
              "Pipeline(steps=[('bow',\n",
              "                 CountVectorizer(analyzer=<function process_text at 0x7f510b9a2160>)),\n",
              "                ('tfidf', TfidfTransformer()),\n",
              "                ('classifier', SVC(kernel='sigmoid', random_state=0))])"
            ]
          },
          "metadata": {},
          "execution_count": 44
        }
      ]
    },
    {
      "cell_type": "code",
      "source": [
        "prediction = pipeline.predict(news_test)"
      ],
      "metadata": {
        "id": "PASVO5t7lx0N"
      },
      "execution_count": null,
      "outputs": []
    },
    {
      "cell_type": "code",
      "source": [
        "print(classification_report(prediction,text_test))"
      ],
      "metadata": {
        "colab": {
          "base_uri": "https://localhost:8080/"
        },
        "id": "fxXdAquUl1JI",
        "outputId": "d05d701f-dcea-4b89-abca-a291a8cf6902"
      },
      "execution_count": null,
      "outputs": [
        {
          "output_type": "stream",
          "name": "stdout",
          "text": [
            "              precision    recall  f1-score   support\n",
            "\n",
            "        Fake       0.85      0.89      0.87        46\n",
            "        True       0.88      0.84      0.86        44\n",
            "\n",
            "    accuracy                           0.87        90\n",
            "   macro avg       0.87      0.87      0.87        90\n",
            "weighted avg       0.87      0.87      0.87        90\n",
            "\n"
          ]
        }
      ]
    }
  ]
}