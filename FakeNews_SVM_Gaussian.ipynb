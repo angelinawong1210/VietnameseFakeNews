{
  "nbformat": 4,
  "nbformat_minor": 0,
  "metadata": {
    "colab": {
      "provenance": [],
      "authorship_tag": "ABX9TyOPavzzzvm+D2thRjhXHtud",
      "include_colab_link": true
    },
    "kernelspec": {
      "name": "python3",
      "display_name": "Python 3"
    },
    "language_info": {
      "name": "python"
    }
  },
  "cells": [
    {
      "cell_type": "markdown",
      "metadata": {
        "id": "view-in-github",
        "colab_type": "text"
      },
      "source": [
        "<a href=\"https://colab.research.google.com/github/angelinawong1210/VietnameseFakeNews/blob/main/FakeNews_SVM_Gaussian.ipynb\" target=\"_parent\"><img src=\"https://colab.research.google.com/assets/colab-badge.svg\" alt=\"Open In Colab\"/></a>"
      ]
    },
    {
      "cell_type": "code",
      "source": [
        "import numpy as np # linear algebra\n",
        "import pandas as pd # data processing, CSV file I/O (e.g. pd.read_csv)"
      ],
      "metadata": {
        "id": "qJZ80pEfjybS"
      },
      "execution_count": null,
      "outputs": []
    },
    {
      "cell_type": "code",
      "source": [
        "truenews = pd.read_csv('/content/Fake.csv')\n",
        "fakenews = pd.read_csv('/content/Real.csv')"
      ],
      "metadata": {
        "id": "IeASuSQAj1hq"
      },
      "execution_count": null,
      "outputs": []
    },
    {
      "cell_type": "code",
      "source": [
        "truenews['True/Fake']='True'\n",
        "fakenews['True/Fake']='Fake'"
      ],
      "metadata": {
        "id": "kDMHyIfJj3YZ"
      },
      "execution_count": null,
      "outputs": []
    },
    {
      "cell_type": "code",
      "source": [
        "# Combine the 2 DataFrames into a single data frame\n",
        "news = pd.concat([truenews, fakenews])\n",
        "news[\"Article\"] = news[\"tittle\"] + news[\"text\"]\n",
        "news.sample(frac = 1) #Shuffle 100%"
      ],
      "metadata": {
        "colab": {
          "base_uri": "https://localhost:8080/",
          "height": 1000
        },
        "id": "G4kJsNpmj6uc",
        "outputId": "a72fc4d0-5aaa-44b0-e53c-836234c4f917"
      },
      "execution_count": null,
      "outputs": [
        {
          "output_type": "execute_result",
          "data": {
            "text/plain": [
              "                                                tittle  \\\n",
              "111  Thấy vợ nằm \"thoát y\" bên cạnh ông bạn thân, n...   \n",
              "91   Nghi phạm sát hại 3 người trong gia đình ở Tiề...   \n",
              "61    Cuộc sống ở 'ốc đảo' biệt thự ngoại thành Hà Nội   \n",
              "107  Trí tuệ cổ nhân: Vương triều diệt vong ứng với...   \n",
              "147  Cô gái bị thanh niên đi SH giật dây chuyền, tà...   \n",
              "..                                                 ...   \n",
              "65   Người Hà Nội chen chân chụp ảnh trong vườn cúc...   \n",
              "126  Hải Phòng: Xúc động khi Bố con người đàn ông “...   \n",
              "66   Hot girl có vòng 1 tự nhiên khủng nhất châu Á ...   \n",
              "126             Nga nối lại thỏa thuận ngũ cốc Ukraine   \n",
              "49   Nhặt được xác trăn ven đường, người đàn ông ch...   \n",
              "\n",
              "                                                  text                 domain  \\\n",
              "111  Vợ không mặc quần áo nằm bên cạnh người đàn ôn...                    NaN   \n",
              "91    3 người trong gia đình ở Tiền Giang bị sát hạ...          vnexpress.net   \n",
              "61    Loanh quanh tập thể dục một mình mãi cũng chá...  doisong.vnexpress.net   \n",
              "107  Cổ nhân cho rằng giữa Trời và người là có thể ...          trithucvn.org   \n",
              "147  B͏an đầu tưởng đôi tình nhân đang cãi nhau, nh...                    NaN   \n",
              "..                                                 ...                    ...   \n",
              "65    12h trưa ngày cuối tuần, nhiều người không ng...          vnexpress.net   \n",
              "126  A͏n͏h͏ Η͏à v͏à ᴄ͏o͏n͏ t͏r͏a͏ι͏ ƌ͏ã ƌ͏ư͏ợᴄ͏ ở ...                    NaN   \n",
              "66    Loạt ảnh mới nhất về cô gái có vòng 1 khủng n...             tinvn.info   \n",
              "126  Nga xác nhận tiếp tục tham gia thỏa thuận ngũ ...          vnexpress.net   \n",
              "49    Thấy xác trăn ven đường, người đàn ông không ...             tinvn.info   \n",
              "\n",
              "          topic True/Fake                                            Article  \n",
              "111   Đời sống       True  Thấy vợ nằm \"thoát y\" bên cạnh ông bạn thân, n...  \n",
              "91     An ninh       Fake  Nghi phạm sát hại 3 người trong gia đình ở Tiề...  \n",
              "61    Đời sống       Fake  Cuộc sống ở 'ốc đảo' biệt thự ngoại thành Hà N...  \n",
              "107   Đời sống       True  Trí tuệ cổ nhân: Vương triều diệt vong ứng với...  \n",
              "147    An ninh       True  Cô gái bị thanh niên đi SH giật dây chuyền, tà...  \n",
              "..          ...       ...                                                ...  \n",
              "65    Đời sống       Fake  Người Hà Nội chen chân chụp ảnh trong vườn cúc...  \n",
              "126   Đời sống       True  Hải Phòng: Xúc động khi Bố con người đàn ông “...  \n",
              "66    Đời sống       True  Hot girl có vòng 1 tự nhiên khủng nhất châu Á ...  \n",
              "126  Chính trị       Fake  Nga nối lại thỏa thuận ngũ cốc UkraineNga xác ...  \n",
              "49    Đời sống       True  Nhặt được xác trăn ven đường, người đàn ông ch...  \n",
              "\n",
              "[299 rows x 6 columns]"
            ],
            "text/html": [
              "\n",
              "  <div id=\"df-0b859ba3-ae06-4ac0-96ab-0dad1125a241\">\n",
              "    <div class=\"colab-df-container\">\n",
              "      <div>\n",
              "<style scoped>\n",
              "    .dataframe tbody tr th:only-of-type {\n",
              "        vertical-align: middle;\n",
              "    }\n",
              "\n",
              "    .dataframe tbody tr th {\n",
              "        vertical-align: top;\n",
              "    }\n",
              "\n",
              "    .dataframe thead th {\n",
              "        text-align: right;\n",
              "    }\n",
              "</style>\n",
              "<table border=\"1\" class=\"dataframe\">\n",
              "  <thead>\n",
              "    <tr style=\"text-align: right;\">\n",
              "      <th></th>\n",
              "      <th>tittle</th>\n",
              "      <th>text</th>\n",
              "      <th>domain</th>\n",
              "      <th>topic</th>\n",
              "      <th>True/Fake</th>\n",
              "      <th>Article</th>\n",
              "    </tr>\n",
              "  </thead>\n",
              "  <tbody>\n",
              "    <tr>\n",
              "      <th>111</th>\n",
              "      <td>Thấy vợ nằm \"thoát y\" bên cạnh ông bạn thân, n...</td>\n",
              "      <td>Vợ không mặc quần áo nằm bên cạnh người đàn ôn...</td>\n",
              "      <td>NaN</td>\n",
              "      <td>Đời sống</td>\n",
              "      <td>True</td>\n",
              "      <td>Thấy vợ nằm \"thoát y\" bên cạnh ông bạn thân, n...</td>\n",
              "    </tr>\n",
              "    <tr>\n",
              "      <th>91</th>\n",
              "      <td>Nghi phạm sát hại 3 người trong gia đình ở Tiề...</td>\n",
              "      <td>3 người trong gia đình ở Tiền Giang bị sát hạ...</td>\n",
              "      <td>vnexpress.net</td>\n",
              "      <td>An ninh</td>\n",
              "      <td>Fake</td>\n",
              "      <td>Nghi phạm sát hại 3 người trong gia đình ở Tiề...</td>\n",
              "    </tr>\n",
              "    <tr>\n",
              "      <th>61</th>\n",
              "      <td>Cuộc sống ở 'ốc đảo' biệt thự ngoại thành Hà Nội</td>\n",
              "      <td>Loanh quanh tập thể dục một mình mãi cũng chá...</td>\n",
              "      <td>doisong.vnexpress.net</td>\n",
              "      <td>Đời sống</td>\n",
              "      <td>Fake</td>\n",
              "      <td>Cuộc sống ở 'ốc đảo' biệt thự ngoại thành Hà N...</td>\n",
              "    </tr>\n",
              "    <tr>\n",
              "      <th>107</th>\n",
              "      <td>Trí tuệ cổ nhân: Vương triều diệt vong ứng với...</td>\n",
              "      <td>Cổ nhân cho rằng giữa Trời và người là có thể ...</td>\n",
              "      <td>trithucvn.org</td>\n",
              "      <td>Đời sống</td>\n",
              "      <td>True</td>\n",
              "      <td>Trí tuệ cổ nhân: Vương triều diệt vong ứng với...</td>\n",
              "    </tr>\n",
              "    <tr>\n",
              "      <th>147</th>\n",
              "      <td>Cô gái bị thanh niên đi SH giật dây chuyền, tà...</td>\n",
              "      <td>B͏an đầu tưởng đôi tình nhân đang cãi nhau, nh...</td>\n",
              "      <td>NaN</td>\n",
              "      <td>An ninh</td>\n",
              "      <td>True</td>\n",
              "      <td>Cô gái bị thanh niên đi SH giật dây chuyền, tà...</td>\n",
              "    </tr>\n",
              "    <tr>\n",
              "      <th>...</th>\n",
              "      <td>...</td>\n",
              "      <td>...</td>\n",
              "      <td>...</td>\n",
              "      <td>...</td>\n",
              "      <td>...</td>\n",
              "      <td>...</td>\n",
              "    </tr>\n",
              "    <tr>\n",
              "      <th>65</th>\n",
              "      <td>Người Hà Nội chen chân chụp ảnh trong vườn cúc...</td>\n",
              "      <td>12h trưa ngày cuối tuần, nhiều người không ng...</td>\n",
              "      <td>vnexpress.net</td>\n",
              "      <td>Đời sống</td>\n",
              "      <td>Fake</td>\n",
              "      <td>Người Hà Nội chen chân chụp ảnh trong vườn cúc...</td>\n",
              "    </tr>\n",
              "    <tr>\n",
              "      <th>126</th>\n",
              "      <td>Hải Phòng: Xúc động khi Bố con người đàn ông “...</td>\n",
              "      <td>A͏n͏h͏ Η͏à v͏à ᴄ͏o͏n͏ t͏r͏a͏ι͏ ƌ͏ã ƌ͏ư͏ợᴄ͏ ở ...</td>\n",
              "      <td>NaN</td>\n",
              "      <td>Đời sống</td>\n",
              "      <td>True</td>\n",
              "      <td>Hải Phòng: Xúc động khi Bố con người đàn ông “...</td>\n",
              "    </tr>\n",
              "    <tr>\n",
              "      <th>66</th>\n",
              "      <td>Hot girl có vòng 1 tự nhiên khủng nhất châu Á ...</td>\n",
              "      <td>Loạt ảnh mới nhất về cô gái có vòng 1 khủng n...</td>\n",
              "      <td>tinvn.info</td>\n",
              "      <td>Đời sống</td>\n",
              "      <td>True</td>\n",
              "      <td>Hot girl có vòng 1 tự nhiên khủng nhất châu Á ...</td>\n",
              "    </tr>\n",
              "    <tr>\n",
              "      <th>126</th>\n",
              "      <td>Nga nối lại thỏa thuận ngũ cốc Ukraine</td>\n",
              "      <td>Nga xác nhận tiếp tục tham gia thỏa thuận ngũ ...</td>\n",
              "      <td>vnexpress.net</td>\n",
              "      <td>Chính trị</td>\n",
              "      <td>Fake</td>\n",
              "      <td>Nga nối lại thỏa thuận ngũ cốc UkraineNga xác ...</td>\n",
              "    </tr>\n",
              "    <tr>\n",
              "      <th>49</th>\n",
              "      <td>Nhặt được xác trăn ven đường, người đàn ông ch...</td>\n",
              "      <td>Thấy xác trăn ven đường, người đàn ông không ...</td>\n",
              "      <td>tinvn.info</td>\n",
              "      <td>Đời sống</td>\n",
              "      <td>True</td>\n",
              "      <td>Nhặt được xác trăn ven đường, người đàn ông ch...</td>\n",
              "    </tr>\n",
              "  </tbody>\n",
              "</table>\n",
              "<p>299 rows × 6 columns</p>\n",
              "</div>\n",
              "      <button class=\"colab-df-convert\" onclick=\"convertToInteractive('df-0b859ba3-ae06-4ac0-96ab-0dad1125a241')\"\n",
              "              title=\"Convert this dataframe to an interactive table.\"\n",
              "              style=\"display:none;\">\n",
              "        \n",
              "  <svg xmlns=\"http://www.w3.org/2000/svg\" height=\"24px\"viewBox=\"0 0 24 24\"\n",
              "       width=\"24px\">\n",
              "    <path d=\"M0 0h24v24H0V0z\" fill=\"none\"/>\n",
              "    <path d=\"M18.56 5.44l.94 2.06.94-2.06 2.06-.94-2.06-.94-.94-2.06-.94 2.06-2.06.94zm-11 1L8.5 8.5l.94-2.06 2.06-.94-2.06-.94L8.5 2.5l-.94 2.06-2.06.94zm10 10l.94 2.06.94-2.06 2.06-.94-2.06-.94-.94-2.06-.94 2.06-2.06.94z\"/><path d=\"M17.41 7.96l-1.37-1.37c-.4-.4-.92-.59-1.43-.59-.52 0-1.04.2-1.43.59L10.3 9.45l-7.72 7.72c-.78.78-.78 2.05 0 2.83L4 21.41c.39.39.9.59 1.41.59.51 0 1.02-.2 1.41-.59l7.78-7.78 2.81-2.81c.8-.78.8-2.07 0-2.86zM5.41 20L4 18.59l7.72-7.72 1.47 1.35L5.41 20z\"/>\n",
              "  </svg>\n",
              "      </button>\n",
              "      \n",
              "  <style>\n",
              "    .colab-df-container {\n",
              "      display:flex;\n",
              "      flex-wrap:wrap;\n",
              "      gap: 12px;\n",
              "    }\n",
              "\n",
              "    .colab-df-convert {\n",
              "      background-color: #E8F0FE;\n",
              "      border: none;\n",
              "      border-radius: 50%;\n",
              "      cursor: pointer;\n",
              "      display: none;\n",
              "      fill: #1967D2;\n",
              "      height: 32px;\n",
              "      padding: 0 0 0 0;\n",
              "      width: 32px;\n",
              "    }\n",
              "\n",
              "    .colab-df-convert:hover {\n",
              "      background-color: #E2EBFA;\n",
              "      box-shadow: 0px 1px 2px rgba(60, 64, 67, 0.3), 0px 1px 3px 1px rgba(60, 64, 67, 0.15);\n",
              "      fill: #174EA6;\n",
              "    }\n",
              "\n",
              "    [theme=dark] .colab-df-convert {\n",
              "      background-color: #3B4455;\n",
              "      fill: #D2E3FC;\n",
              "    }\n",
              "\n",
              "    [theme=dark] .colab-df-convert:hover {\n",
              "      background-color: #434B5C;\n",
              "      box-shadow: 0px 1px 3px 1px rgba(0, 0, 0, 0.15);\n",
              "      filter: drop-shadow(0px 1px 2px rgba(0, 0, 0, 0.3));\n",
              "      fill: #FFFFFF;\n",
              "    }\n",
              "  </style>\n",
              "\n",
              "      <script>\n",
              "        const buttonEl =\n",
              "          document.querySelector('#df-0b859ba3-ae06-4ac0-96ab-0dad1125a241 button.colab-df-convert');\n",
              "        buttonEl.style.display =\n",
              "          google.colab.kernel.accessAllowed ? 'block' : 'none';\n",
              "\n",
              "        async function convertToInteractive(key) {\n",
              "          const element = document.querySelector('#df-0b859ba3-ae06-4ac0-96ab-0dad1125a241');\n",
              "          const dataTable =\n",
              "            await google.colab.kernel.invokeFunction('convertToInteractive',\n",
              "                                                     [key], {});\n",
              "          if (!dataTable) return;\n",
              "\n",
              "          const docLinkHtml = 'Like what you see? Visit the ' +\n",
              "            '<a target=\"_blank\" href=https://colab.research.google.com/notebooks/data_table.ipynb>data table notebook</a>'\n",
              "            + ' to learn more about interactive tables.';\n",
              "          element.innerHTML = '';\n",
              "          dataTable['output_type'] = 'display_data';\n",
              "          await google.colab.output.renderOutput(dataTable, element);\n",
              "          const docLink = document.createElement('div');\n",
              "          docLink.innerHTML = docLinkHtml;\n",
              "          element.appendChild(docLink);\n",
              "        }\n",
              "      </script>\n",
              "    </div>\n",
              "  </div>\n",
              "  "
            ]
          },
          "metadata": {},
          "execution_count": 4
        }
      ]
    },
    {
      "cell_type": "code",
      "source": [
        "import nltk \n",
        "nltk.download('stopwords')\n",
        "#Data Cleaning\n",
        "from nltk.corpus import stopwords\n",
        "import string"
      ],
      "metadata": {
        "colab": {
          "base_uri": "https://localhost:8080/"
        },
        "id": "xGUp87mIj8qb",
        "outputId": "8a062c6c-41c7-4c4a-8092-92219f5a7295"
      },
      "execution_count": null,
      "outputs": [
        {
          "output_type": "stream",
          "name": "stderr",
          "text": [
            "[nltk_data] Downloading package stopwords to /root/nltk_data...\n",
            "[nltk_data]   Unzipping corpora/stopwords.zip.\n"
          ]
        }
      ]
    },
    {
      "cell_type": "code",
      "source": [
        "def process_text(s):\n",
        "\n",
        "    # Check string to see if they are a punctuation\n",
        "    nopunc = [char for char in s if char not in string.punctuation]\n",
        "\n",
        "    # Join the characters again to form the string.\n",
        "    nopunc = ''.join(nopunc)\n",
        "    \n",
        "    # Convert string to lowercase and remove stopwords\n",
        "    clean_string = [word for word in nopunc.split()]\n",
        "    return clean_string"
      ],
      "metadata": {
        "id": "gqKyNflCkDBD"
      },
      "execution_count": null,
      "outputs": []
    },
    {
      "cell_type": "code",
      "source": [
        "# Tokenize the Article\n",
        "#rerun, takes LOOOONG\n",
        "news['Clean Text'] = news['Article'].apply(process_text)"
      ],
      "metadata": {
        "id": "VAFXtDvYkG9G"
      },
      "execution_count": null,
      "outputs": []
    },
    {
      "cell_type": "code",
      "source": [
        "from sklearn.feature_extraction.text import CountVectorizer"
      ],
      "metadata": {
        "id": "yURZTpejkJN2"
      },
      "execution_count": null,
      "outputs": []
    },
    {
      "cell_type": "code",
      "source": [
        "bow_transformer = CountVectorizer(analyzer=process_text).fit(news['Clean Text'])\n",
        "\n",
        "print(len(bow_transformer.vocabulary_)) #Total vocab words\n"
      ],
      "metadata": {
        "colab": {
          "base_uri": "https://localhost:8080/"
        },
        "id": "BjHwZAuzkNL5",
        "outputId": "320ecbb2-a10b-4115-930a-1e9682d97c60"
      },
      "execution_count": null,
      "outputs": [
        {
          "output_type": "stream",
          "name": "stdout",
          "text": [
            "298\n"
          ]
        }
      ]
    },
    {
      "cell_type": "code",
      "source": [
        "#Bag-of-Words (bow) transform the entire DataFrame of text\n",
        "news_bow = bow_transformer.transform(news['Clean Text'])"
      ],
      "metadata": {
        "id": "satsrL0MkP3s"
      },
      "execution_count": null,
      "outputs": []
    },
    {
      "cell_type": "code",
      "source": [
        "print('Shape of Sparse Matrix: ', news_bow.shape)\n",
        "print('Amount of Non-Zero occurences: ', news_bow.nnz)"
      ],
      "metadata": {
        "colab": {
          "base_uri": "https://localhost:8080/"
        },
        "id": "pYGzNi6PkSeS",
        "outputId": "494c17cf-842e-4857-abc6-26359f70c810"
      },
      "execution_count": null,
      "outputs": [
        {
          "output_type": "stream",
          "name": "stdout",
          "text": [
            "Shape of Sparse Matrix:  (299, 298)\n",
            "Amount of Non-Zero occurences:  299\n"
          ]
        }
      ]
    },
    {
      "cell_type": "code",
      "source": [
        "sparsity = (100.0 * news_bow.nnz / (news_bow.shape[0] * news_bow.shape[1]))\n",
        "print('sparsity: {}'.format(round(sparsity)))"
      ],
      "metadata": {
        "colab": {
          "base_uri": "https://localhost:8080/"
        },
        "id": "7l8xeaOAkUr8",
        "outputId": "e528806e-ff16-4521-a409-02553fb4c31b"
      },
      "execution_count": null,
      "outputs": [
        {
          "output_type": "stream",
          "name": "stdout",
          "text": [
            "sparsity: 0\n"
          ]
        }
      ]
    },
    {
      "cell_type": "code",
      "source": [
        "from sklearn.feature_extraction.text import TfidfTransformer\n",
        "\n",
        "tfidf_transformer = TfidfTransformer().fit(news_bow)\n",
        "news_tfidf = tfidf_transformer.transform(news_bow)\n",
        "print(news_tfidf.shape)"
      ],
      "metadata": {
        "colab": {
          "base_uri": "https://localhost:8080/"
        },
        "id": "utNmEeKskXXn",
        "outputId": "c8971395-a31d-4467-ca17-740e8d4beedc"
      },
      "execution_count": null,
      "outputs": [
        {
          "output_type": "stream",
          "name": "stdout",
          "text": [
            "(299, 298)\n"
          ]
        }
      ]
    },
    {
      "cell_type": "code",
      "source": [
        "#Train SVM model\n",
        "from sklearn.svm import SVC\n",
        "fakenews_detect_model = SVC(kernel = 'linear', random_state = 0).fit(news_tfidf, news['True/Fake'])\n"
      ],
      "metadata": {
        "id": "7d0amtmmkZVm"
      },
      "execution_count": null,
      "outputs": []
    },
    {
      "cell_type": "code",
      "source": [
        "#Model Evaluation\n",
        "predictions = fakenews_detect_model.predict(news_tfidf)\n",
        "print(predictions)"
      ],
      "metadata": {
        "colab": {
          "base_uri": "https://localhost:8080/"
        },
        "id": "JfSyqaoWleUS",
        "outputId": "c77f69d4-35e6-4336-8528-a5a610d4ea52"
      },
      "execution_count": null,
      "outputs": [
        {
          "output_type": "stream",
          "name": "stdout",
          "text": [
            "['True' 'True' 'True' 'True' 'True' 'True' 'True' 'True' 'True' 'True'\n",
            " 'True' 'True' 'True' 'True' 'True' 'True' 'True' 'True' 'True' 'True'\n",
            " 'True' 'True' 'True' 'True' 'True' 'True' 'True' 'True' 'True' 'True'\n",
            " 'True' 'True' 'True' 'True' 'True' 'True' 'True' 'True' 'True' 'True'\n",
            " 'True' 'True' 'True' 'True' 'True' 'True' 'True' 'True' 'True' 'True'\n",
            " 'True' 'True' 'True' 'True' 'True' 'True' 'True' 'True' 'True' 'True'\n",
            " 'True' 'True' 'True' 'True' 'True' 'True' 'True' 'True' 'True' 'True'\n",
            " 'True' 'True' 'True' 'True' 'True' 'True' 'True' 'True' 'True' 'True'\n",
            " 'True' 'True' 'True' 'True' 'True' 'True' 'True' 'True' 'True' 'True'\n",
            " 'True' 'True' 'True' 'True' 'True' 'True' 'True' 'True' 'True' 'True'\n",
            " 'True' 'True' 'True' 'True' 'True' 'True' 'True' 'True' 'True' 'True'\n",
            " 'True' 'True' 'True' 'True' 'True' 'True' 'True' 'True' 'True' 'True'\n",
            " 'True' 'True' 'True' 'True' 'True' 'True' 'True' 'True' 'True' 'True'\n",
            " 'True' 'True' 'True' 'True' 'True' 'True' 'True' 'True' 'True' 'True'\n",
            " 'True' 'True' 'True' 'True' 'True' 'True' 'True' 'True' 'True' 'Fake'\n",
            " 'Fake' 'Fake' 'Fake' 'Fake' 'Fake' 'Fake' 'Fake' 'Fake' 'Fake' 'Fake'\n",
            " 'Fake' 'Fake' 'Fake' 'Fake' 'Fake' 'Fake' 'Fake' 'Fake' 'Fake' 'Fake'\n",
            " 'Fake' 'Fake' 'Fake' 'Fake' 'Fake' 'Fake' 'Fake' 'Fake' 'Fake' 'Fake'\n",
            " 'Fake' 'Fake' 'Fake' 'Fake' 'Fake' 'Fake' 'Fake' 'Fake' 'Fake' 'Fake'\n",
            " 'Fake' 'Fake' 'Fake' 'Fake' 'Fake' 'Fake' 'Fake' 'Fake' 'Fake' 'Fake'\n",
            " 'Fake' 'Fake' 'Fake' 'Fake' 'Fake' 'Fake' 'Fake' 'Fake' 'Fake' 'Fake'\n",
            " 'Fake' 'Fake' 'Fake' 'Fake' 'Fake' 'Fake' 'Fake' 'Fake' 'Fake' 'Fake'\n",
            " 'Fake' 'Fake' 'Fake' 'Fake' 'Fake' 'Fake' 'Fake' 'Fake' 'Fake' 'Fake'\n",
            " 'Fake' 'Fake' 'Fake' 'Fake' 'Fake' 'Fake' 'Fake' 'Fake' 'Fake' 'Fake'\n",
            " 'Fake' 'Fake' 'Fake' 'Fake' 'Fake' 'Fake' 'Fake' 'Fake' 'Fake' 'Fake'\n",
            " 'Fake' 'Fake' 'Fake' 'Fake' 'Fake' 'Fake' 'Fake' 'Fake' 'Fake' 'Fake'\n",
            " 'Fake' 'Fake' 'Fake' 'Fake' 'Fake' 'Fake' 'Fake' 'Fake' 'Fake' 'Fake'\n",
            " 'Fake' 'Fake' 'Fake' 'Fake' 'Fake' 'Fake' 'Fake' 'Fake' 'Fake' 'Fake'\n",
            " 'Fake' 'Fake' 'Fake' 'Fake' 'Fake' 'Fake' 'Fake' 'Fake' 'Fake' 'Fake'\n",
            " 'Fake' 'Fake' 'Fake' 'Fake' 'Fake' 'Fake' 'Fake' 'Fake' 'Fake']\n"
          ]
        }
      ]
    },
    {
      "cell_type": "code",
      "source": [
        "from sklearn.metrics import classification_report\n",
        "print (classification_report(news['True/Fake'], predictions))\n"
      ],
      "metadata": {
        "colab": {
          "base_uri": "https://localhost:8080/"
        },
        "id": "l788t_ZklkKR",
        "outputId": "990a2b16-6360-454c-88b1-91797b37d14d"
      },
      "execution_count": null,
      "outputs": [
        {
          "output_type": "stream",
          "name": "stdout",
          "text": [
            "              precision    recall  f1-score   support\n",
            "\n",
            "        Fake       1.00      1.00      1.00       150\n",
            "        True       1.00      1.00      1.00       149\n",
            "\n",
            "    accuracy                           1.00       299\n",
            "   macro avg       1.00      1.00      1.00       299\n",
            "weighted avg       1.00      1.00      1.00       299\n",
            "\n"
          ]
        }
      ]
    },
    {
      "cell_type": "code",
      "source": [
        "from sklearn.model_selection import train_test_split\n",
        "\n",
        "news_train, news_test, text_train, text_test = train_test_split(news['Article'], news['True/Fake'], test_size=0.3)\n",
        "\n",
        "print(len(news_train), len(news_test), len(news_train) + len(news_test))"
      ],
      "metadata": {
        "colab": {
          "base_uri": "https://localhost:8080/"
        },
        "id": "Mlfcjt8Elm0H",
        "outputId": "b4fa11e6-08aa-435f-9513-f2e055bdf049"
      },
      "execution_count": null,
      "outputs": [
        {
          "output_type": "stream",
          "name": "stdout",
          "text": [
            "209 90 299\n"
          ]
        }
      ]
    },
    {
      "cell_type": "code",
      "source": [
        "from sklearn.pipeline import Pipeline\n",
        "\n",
        "pipeline = Pipeline([\n",
        "    ('bow', CountVectorizer(analyzer=process_text)),  \n",
        "    ('tfidf', TfidfTransformer()),  \n",
        "    ('classifier', SVC(kernel = 'linear', random_state = 0)),  \n",
        "])\n",
        "pipeline.fit(news_train,text_train)"
      ],
      "metadata": {
        "colab": {
          "base_uri": "https://localhost:8080/"
        },
        "id": "rF6pSOtilqK1",
        "outputId": "ac8b4727-5ea9-412b-e6d2-c767bab6d4b8"
      },
      "execution_count": null,
      "outputs": [
        {
          "output_type": "execute_result",
          "data": {
            "text/plain": [
              "Pipeline(steps=[('bow',\n",
              "                 CountVectorizer(analyzer=<function process_text at 0x7fd27c948310>)),\n",
              "                ('tfidf', TfidfTransformer()),\n",
              "                ('classifier', SVC(kernel='linear', random_state=0))])"
            ]
          },
          "metadata": {},
          "execution_count": 18
        }
      ]
    },
    {
      "cell_type": "code",
      "source": [
        "prediction = pipeline.predict(news_test)"
      ],
      "metadata": {
        "id": "PASVO5t7lx0N"
      },
      "execution_count": null,
      "outputs": []
    },
    {
      "cell_type": "code",
      "source": [
        "print(classification_report(prediction,text_test))"
      ],
      "metadata": {
        "colab": {
          "base_uri": "https://localhost:8080/"
        },
        "id": "fxXdAquUl1JI",
        "outputId": "ab71facb-1220-488b-c968-ce30c8f3c822"
      },
      "execution_count": null,
      "outputs": [
        {
          "output_type": "stream",
          "name": "stdout",
          "text": [
            "              precision    recall  f1-score   support\n",
            "\n",
            "        Fake       0.86      0.86      0.86        44\n",
            "        True       0.87      0.87      0.87        46\n",
            "\n",
            "    accuracy                           0.87        90\n",
            "   macro avg       0.87      0.87      0.87        90\n",
            "weighted avg       0.87      0.87      0.87        90\n",
            "\n"
          ]
        }
      ]
    }
  ]
}