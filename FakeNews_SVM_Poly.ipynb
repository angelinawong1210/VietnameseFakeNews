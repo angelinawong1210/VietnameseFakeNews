{
  "nbformat": 4,
  "nbformat_minor": 0,
  "metadata": {
    "colab": {
      "provenance": [],
      "authorship_tag": "ABX9TyOD/62Z1e2Y8R/4hxJTT/Ox",
      "include_colab_link": true
    },
    "kernelspec": {
      "name": "python3",
      "display_name": "Python 3"
    },
    "language_info": {
      "name": "python"
    }
  },
  "cells": [
    {
      "cell_type": "markdown",
      "metadata": {
        "id": "view-in-github",
        "colab_type": "text"
      },
      "source": [
        "<a href=\"https://colab.research.google.com/github/angelinawong1210/VietnameseFakeNews/blob/main/FakeNews_SVM_Poly.ipynb\" target=\"_parent\"><img src=\"https://colab.research.google.com/assets/colab-badge.svg\" alt=\"Open In Colab\"/></a>"
      ]
    },
    {
      "cell_type": "code",
      "source": [
        "import numpy as np # linear algebra\n",
        "import pandas as pd # data processing, CSV file I/O (e.g. pd.read_csv)"
      ],
      "metadata": {
        "id": "qJZ80pEfjybS"
      },
      "execution_count": null,
      "outputs": []
    },
    {
      "cell_type": "code",
      "source": [
        "truenews = pd.read_csv('/content/Fake.csv')\n",
        "fakenews = pd.read_csv('/content/Real.csv')"
      ],
      "metadata": {
        "id": "IeASuSQAj1hq"
      },
      "execution_count": null,
      "outputs": []
    },
    {
      "cell_type": "code",
      "source": [
        "truenews['True/Fake']='True'\n",
        "fakenews['True/Fake']='Fake'"
      ],
      "metadata": {
        "id": "kDMHyIfJj3YZ"
      },
      "execution_count": null,
      "outputs": []
    },
    {
      "cell_type": "code",
      "source": [
        "# Combine the 2 DataFrames into a single data frame\n",
        "news = pd.concat([truenews, fakenews])\n",
        "news[\"Article\"] = news[\"tittle\"] + news[\"text\"]\n",
        "news.sample(frac = 1) #Shuffle 100%"
      ],
      "metadata": {
        "colab": {
          "base_uri": "https://localhost:8080/",
          "height": 1000
        },
        "id": "G4kJsNpmj6uc",
        "outputId": "104ac349-730f-4e0b-da51-76887911d524"
      },
      "execution_count": null,
      "outputs": [
        {
          "output_type": "execute_result",
          "data": {
            "text/plain": [
              "                                                tittle  \\\n",
              "57   Lao động nước ngoài ở Việt Nam phải đóng bảo h...   \n",
              "41   Những dấu hiệu nhận biết nhà bạn đang có ma và...   \n",
              "71   Lấy chồng thực vật, 35 tuổi vẫn còn zin, 1 đêm...   \n",
              "51   Xã hội đen Đài Loan mở tiệm mỳ miễn phí cho ng...   \n",
              "62   Chấp nhận đổ vỏ cho con nhỏ bạn thân và cái kế...   \n",
              "..                                                 ...   \n",
              "34                      FastGo quyết khô máu với Grab!   \n",
              "76   Cứ tưởng đào được trứng khủng long, người đàn ...   \n",
              "53   vũ khí kết nối người trẻ của Tổng thống Indonesia   \n",
              "146  Muốn mua Iphone 14 tặng bạn gái, thanh niên đậ...   \n",
              "82     Cựu nữ chủ tịch xã 45 tuổi đi thi THPT quốc gia   \n",
              "\n",
              "                                                  text         domain  \\\n",
              "57    Chính phủ vừa ban hành Nghị định quy định chi...  vnexpress.net   \n",
              "41    Dấu hiệu nhận biết nhà có ma. Các khung giờ 1...     tinvn.info   \n",
              "71    Trang đã từng yêu vài người, nhưng lần nào ch...     tinvn.info   \n",
              "51   \\n Xã hội đen Italy dụ người nghèo hủy hoại ch...  vnexpress.net   \n",
              "62    Tối đang ngồi nhậu với mấy thằng bạn thì con ...     tinvn.info   \n",
              "..                                                 ...            ...   \n",
              "34   Trải nghiệm những giải đấu thể thao quốc tế tr...     tinvn.info   \n",
              "76   \\n Không ai có thể ngờ được rằng bên trong nhữ...     tinvn.info   \n",
              "53    WEF ASEAN đón số lượng kỷ lục lãnh đạo quốc g...  vnexpress.net   \n",
              "146  Công an huyện Việt Yên đang tiến hành lập hồ s...            NaN   \n",
              "82    Cựu nữ chủ tịch xã đi thi THPT quốc gia Chị M...  vnexpress.net   \n",
              "\n",
              "          topic True/Fake                                            Article  \n",
              "57     Kinh tế       Fake  Lao động nước ngoài ở Việt Nam phải đóng bảo h...  \n",
              "41    Đời sống       True  Những dấu hiệu nhận biết nhà bạn đang có ma và...  \n",
              "71    Đời sống       True  Lấy chồng thực vật, 35 tuổi vẫn còn zin, 1 đêm...  \n",
              "51    Đời sống       Fake  Xã hội đen Đài Loan mở tiệm mỳ miễn phí cho ng...  \n",
              "62    Đời sống       True  Chấp nhận đổ vỏ cho con nhỏ bạn thân và cái kế...  \n",
              "..          ...       ...                                                ...  \n",
              "34      Kinh tế      True  FastGo quyết khô máu với Grab!Trải nghiệm nhữn...  \n",
              "76    Đời sống       True  Cứ tưởng đào được trứng khủng long, người đàn ...  \n",
              "53   Chính trị       Fake  vũ khí kết nối người trẻ của Tổng thống Indone...  \n",
              "146    An ninh       True  Muốn mua Iphone 14 tặng bạn gái, thanh niên đậ...  \n",
              "82     Giáo dục      Fake  Cựu nữ chủ tịch xã 45 tuổi đi thi THPT quốc gi...  \n",
              "\n",
              "[299 rows x 6 columns]"
            ],
            "text/html": [
              "\n",
              "  <div id=\"df-2ceb2fcc-2818-4c7b-9f69-b7a5b9937210\">\n",
              "    <div class=\"colab-df-container\">\n",
              "      <div>\n",
              "<style scoped>\n",
              "    .dataframe tbody tr th:only-of-type {\n",
              "        vertical-align: middle;\n",
              "    }\n",
              "\n",
              "    .dataframe tbody tr th {\n",
              "        vertical-align: top;\n",
              "    }\n",
              "\n",
              "    .dataframe thead th {\n",
              "        text-align: right;\n",
              "    }\n",
              "</style>\n",
              "<table border=\"1\" class=\"dataframe\">\n",
              "  <thead>\n",
              "    <tr style=\"text-align: right;\">\n",
              "      <th></th>\n",
              "      <th>tittle</th>\n",
              "      <th>text</th>\n",
              "      <th>domain</th>\n",
              "      <th>topic</th>\n",
              "      <th>True/Fake</th>\n",
              "      <th>Article</th>\n",
              "    </tr>\n",
              "  </thead>\n",
              "  <tbody>\n",
              "    <tr>\n",
              "      <th>57</th>\n",
              "      <td>Lao động nước ngoài ở Việt Nam phải đóng bảo h...</td>\n",
              "      <td>Chính phủ vừa ban hành Nghị định quy định chi...</td>\n",
              "      <td>vnexpress.net</td>\n",
              "      <td>Kinh tế</td>\n",
              "      <td>Fake</td>\n",
              "      <td>Lao động nước ngoài ở Việt Nam phải đóng bảo h...</td>\n",
              "    </tr>\n",
              "    <tr>\n",
              "      <th>41</th>\n",
              "      <td>Những dấu hiệu nhận biết nhà bạn đang có ma và...</td>\n",
              "      <td>Dấu hiệu nhận biết nhà có ma. Các khung giờ 1...</td>\n",
              "      <td>tinvn.info</td>\n",
              "      <td>Đời sống</td>\n",
              "      <td>True</td>\n",
              "      <td>Những dấu hiệu nhận biết nhà bạn đang có ma và...</td>\n",
              "    </tr>\n",
              "    <tr>\n",
              "      <th>71</th>\n",
              "      <td>Lấy chồng thực vật, 35 tuổi vẫn còn zin, 1 đêm...</td>\n",
              "      <td>Trang đã từng yêu vài người, nhưng lần nào ch...</td>\n",
              "      <td>tinvn.info</td>\n",
              "      <td>Đời sống</td>\n",
              "      <td>True</td>\n",
              "      <td>Lấy chồng thực vật, 35 tuổi vẫn còn zin, 1 đêm...</td>\n",
              "    </tr>\n",
              "    <tr>\n",
              "      <th>51</th>\n",
              "      <td>Xã hội đen Đài Loan mở tiệm mỳ miễn phí cho ng...</td>\n",
              "      <td>\\n Xã hội đen Italy dụ người nghèo hủy hoại ch...</td>\n",
              "      <td>vnexpress.net</td>\n",
              "      <td>Đời sống</td>\n",
              "      <td>Fake</td>\n",
              "      <td>Xã hội đen Đài Loan mở tiệm mỳ miễn phí cho ng...</td>\n",
              "    </tr>\n",
              "    <tr>\n",
              "      <th>62</th>\n",
              "      <td>Chấp nhận đổ vỏ cho con nhỏ bạn thân và cái kế...</td>\n",
              "      <td>Tối đang ngồi nhậu với mấy thằng bạn thì con ...</td>\n",
              "      <td>tinvn.info</td>\n",
              "      <td>Đời sống</td>\n",
              "      <td>True</td>\n",
              "      <td>Chấp nhận đổ vỏ cho con nhỏ bạn thân và cái kế...</td>\n",
              "    </tr>\n",
              "    <tr>\n",
              "      <th>...</th>\n",
              "      <td>...</td>\n",
              "      <td>...</td>\n",
              "      <td>...</td>\n",
              "      <td>...</td>\n",
              "      <td>...</td>\n",
              "      <td>...</td>\n",
              "    </tr>\n",
              "    <tr>\n",
              "      <th>34</th>\n",
              "      <td>FastGo quyết khô máu với Grab!</td>\n",
              "      <td>Trải nghiệm những giải đấu thể thao quốc tế tr...</td>\n",
              "      <td>tinvn.info</td>\n",
              "      <td>Kinh tế</td>\n",
              "      <td>True</td>\n",
              "      <td>FastGo quyết khô máu với Grab!Trải nghiệm nhữn...</td>\n",
              "    </tr>\n",
              "    <tr>\n",
              "      <th>76</th>\n",
              "      <td>Cứ tưởng đào được trứng khủng long, người đàn ...</td>\n",
              "      <td>\\n Không ai có thể ngờ được rằng bên trong nhữ...</td>\n",
              "      <td>tinvn.info</td>\n",
              "      <td>Đời sống</td>\n",
              "      <td>True</td>\n",
              "      <td>Cứ tưởng đào được trứng khủng long, người đàn ...</td>\n",
              "    </tr>\n",
              "    <tr>\n",
              "      <th>53</th>\n",
              "      <td>vũ khí kết nối người trẻ của Tổng thống Indonesia</td>\n",
              "      <td>WEF ASEAN đón số lượng kỷ lục lãnh đạo quốc g...</td>\n",
              "      <td>vnexpress.net</td>\n",
              "      <td>Chính trị</td>\n",
              "      <td>Fake</td>\n",
              "      <td>vũ khí kết nối người trẻ của Tổng thống Indone...</td>\n",
              "    </tr>\n",
              "    <tr>\n",
              "      <th>146</th>\n",
              "      <td>Muốn mua Iphone 14 tặng bạn gái, thanh niên đậ...</td>\n",
              "      <td>Công an huyện Việt Yên đang tiến hành lập hồ s...</td>\n",
              "      <td>NaN</td>\n",
              "      <td>An ninh</td>\n",
              "      <td>True</td>\n",
              "      <td>Muốn mua Iphone 14 tặng bạn gái, thanh niên đậ...</td>\n",
              "    </tr>\n",
              "    <tr>\n",
              "      <th>82</th>\n",
              "      <td>Cựu nữ chủ tịch xã 45 tuổi đi thi THPT quốc gia</td>\n",
              "      <td>Cựu nữ chủ tịch xã đi thi THPT quốc gia Chị M...</td>\n",
              "      <td>vnexpress.net</td>\n",
              "      <td>Giáo dục</td>\n",
              "      <td>Fake</td>\n",
              "      <td>Cựu nữ chủ tịch xã 45 tuổi đi thi THPT quốc gi...</td>\n",
              "    </tr>\n",
              "  </tbody>\n",
              "</table>\n",
              "<p>299 rows × 6 columns</p>\n",
              "</div>\n",
              "      <button class=\"colab-df-convert\" onclick=\"convertToInteractive('df-2ceb2fcc-2818-4c7b-9f69-b7a5b9937210')\"\n",
              "              title=\"Convert this dataframe to an interactive table.\"\n",
              "              style=\"display:none;\">\n",
              "        \n",
              "  <svg xmlns=\"http://www.w3.org/2000/svg\" height=\"24px\"viewBox=\"0 0 24 24\"\n",
              "       width=\"24px\">\n",
              "    <path d=\"M0 0h24v24H0V0z\" fill=\"none\"/>\n",
              "    <path d=\"M18.56 5.44l.94 2.06.94-2.06 2.06-.94-2.06-.94-.94-2.06-.94 2.06-2.06.94zm-11 1L8.5 8.5l.94-2.06 2.06-.94-2.06-.94L8.5 2.5l-.94 2.06-2.06.94zm10 10l.94 2.06.94-2.06 2.06-.94-2.06-.94-.94-2.06-.94 2.06-2.06.94z\"/><path d=\"M17.41 7.96l-1.37-1.37c-.4-.4-.92-.59-1.43-.59-.52 0-1.04.2-1.43.59L10.3 9.45l-7.72 7.72c-.78.78-.78 2.05 0 2.83L4 21.41c.39.39.9.59 1.41.59.51 0 1.02-.2 1.41-.59l7.78-7.78 2.81-2.81c.8-.78.8-2.07 0-2.86zM5.41 20L4 18.59l7.72-7.72 1.47 1.35L5.41 20z\"/>\n",
              "  </svg>\n",
              "      </button>\n",
              "      \n",
              "  <style>\n",
              "    .colab-df-container {\n",
              "      display:flex;\n",
              "      flex-wrap:wrap;\n",
              "      gap: 12px;\n",
              "    }\n",
              "\n",
              "    .colab-df-convert {\n",
              "      background-color: #E8F0FE;\n",
              "      border: none;\n",
              "      border-radius: 50%;\n",
              "      cursor: pointer;\n",
              "      display: none;\n",
              "      fill: #1967D2;\n",
              "      height: 32px;\n",
              "      padding: 0 0 0 0;\n",
              "      width: 32px;\n",
              "    }\n",
              "\n",
              "    .colab-df-convert:hover {\n",
              "      background-color: #E2EBFA;\n",
              "      box-shadow: 0px 1px 2px rgba(60, 64, 67, 0.3), 0px 1px 3px 1px rgba(60, 64, 67, 0.15);\n",
              "      fill: #174EA6;\n",
              "    }\n",
              "\n",
              "    [theme=dark] .colab-df-convert {\n",
              "      background-color: #3B4455;\n",
              "      fill: #D2E3FC;\n",
              "    }\n",
              "\n",
              "    [theme=dark] .colab-df-convert:hover {\n",
              "      background-color: #434B5C;\n",
              "      box-shadow: 0px 1px 3px 1px rgba(0, 0, 0, 0.15);\n",
              "      filter: drop-shadow(0px 1px 2px rgba(0, 0, 0, 0.3));\n",
              "      fill: #FFFFFF;\n",
              "    }\n",
              "  </style>\n",
              "\n",
              "      <script>\n",
              "        const buttonEl =\n",
              "          document.querySelector('#df-2ceb2fcc-2818-4c7b-9f69-b7a5b9937210 button.colab-df-convert');\n",
              "        buttonEl.style.display =\n",
              "          google.colab.kernel.accessAllowed ? 'block' : 'none';\n",
              "\n",
              "        async function convertToInteractive(key) {\n",
              "          const element = document.querySelector('#df-2ceb2fcc-2818-4c7b-9f69-b7a5b9937210');\n",
              "          const dataTable =\n",
              "            await google.colab.kernel.invokeFunction('convertToInteractive',\n",
              "                                                     [key], {});\n",
              "          if (!dataTable) return;\n",
              "\n",
              "          const docLinkHtml = 'Like what you see? Visit the ' +\n",
              "            '<a target=\"_blank\" href=https://colab.research.google.com/notebooks/data_table.ipynb>data table notebook</a>'\n",
              "            + ' to learn more about interactive tables.';\n",
              "          element.innerHTML = '';\n",
              "          dataTable['output_type'] = 'display_data';\n",
              "          await google.colab.output.renderOutput(dataTable, element);\n",
              "          const docLink = document.createElement('div');\n",
              "          docLink.innerHTML = docLinkHtml;\n",
              "          element.appendChild(docLink);\n",
              "        }\n",
              "      </script>\n",
              "    </div>\n",
              "  </div>\n",
              "  "
            ]
          },
          "metadata": {},
          "execution_count": 6
        }
      ]
    },
    {
      "cell_type": "code",
      "source": [
        "import nltk \n",
        "nltk.download('stopwords')\n",
        "#Data Cleaning\n",
        "from nltk.corpus import stopwords\n",
        "import string"
      ],
      "metadata": {
        "colab": {
          "base_uri": "https://localhost:8080/"
        },
        "id": "xGUp87mIj8qb",
        "outputId": "af4a8a20-1d6f-44e0-c5b2-819098ece878"
      },
      "execution_count": null,
      "outputs": [
        {
          "output_type": "stream",
          "name": "stderr",
          "text": [
            "[nltk_data] Downloading package stopwords to /root/nltk_data...\n",
            "[nltk_data]   Unzipping corpora/stopwords.zip.\n"
          ]
        }
      ]
    },
    {
      "cell_type": "code",
      "source": [
        "def process_text(s):\n",
        "\n",
        "    # Check string to see if they are a punctuation\n",
        "    nopunc = [char for char in s if char not in string.punctuation]\n",
        "\n",
        "    # Join the characters again to form the string.\n",
        "    nopunc = ''.join(nopunc)\n",
        "    \n",
        "    # Convert string to lowercase and remove stopwords\n",
        "    clean_string = [word for word in nopunc.split()]\n",
        "    return clean_string"
      ],
      "metadata": {
        "id": "gqKyNflCkDBD"
      },
      "execution_count": null,
      "outputs": []
    },
    {
      "cell_type": "code",
      "source": [
        "# Tokenize the Article\n",
        "#rerun, takes LOOOONG\n",
        "news['Clean Text'] = news['Article'].apply(process_text)"
      ],
      "metadata": {
        "id": "VAFXtDvYkG9G"
      },
      "execution_count": null,
      "outputs": []
    },
    {
      "cell_type": "code",
      "source": [
        "from sklearn.feature_extraction.text import CountVectorizer"
      ],
      "metadata": {
        "id": "yURZTpejkJN2"
      },
      "execution_count": null,
      "outputs": []
    },
    {
      "cell_type": "code",
      "source": [
        "bow_transformer = CountVectorizer(analyzer=process_text).fit(news['Clean Text'])\n",
        "\n",
        "print(len(bow_transformer.vocabulary_)) #Total vocab words\n"
      ],
      "metadata": {
        "colab": {
          "base_uri": "https://localhost:8080/"
        },
        "id": "BjHwZAuzkNL5",
        "outputId": "67d7988e-a362-40e5-996d-f06b4b4ff456"
      },
      "execution_count": null,
      "outputs": [
        {
          "output_type": "stream",
          "name": "stdout",
          "text": [
            "298\n"
          ]
        }
      ]
    },
    {
      "cell_type": "code",
      "source": [
        "#Bag-of-Words (bow) transform the entire DataFrame of text\n",
        "news_bow = bow_transformer.transform(news['Clean Text'])"
      ],
      "metadata": {
        "id": "satsrL0MkP3s"
      },
      "execution_count": null,
      "outputs": []
    },
    {
      "cell_type": "code",
      "source": [
        "print('Shape of Sparse Matrix: ', news_bow.shape)\n",
        "print('Amount of Non-Zero occurences: ', news_bow.nnz)"
      ],
      "metadata": {
        "colab": {
          "base_uri": "https://localhost:8080/"
        },
        "id": "pYGzNi6PkSeS",
        "outputId": "b6019064-e400-4932-8cdd-4e879d89c365"
      },
      "execution_count": null,
      "outputs": [
        {
          "output_type": "stream",
          "name": "stdout",
          "text": [
            "Shape of Sparse Matrix:  (299, 298)\n",
            "Amount of Non-Zero occurences:  299\n"
          ]
        }
      ]
    },
    {
      "cell_type": "code",
      "source": [
        "sparsity = (100.0 * news_bow.nnz / (news_bow.shape[0] * news_bow.shape[1]))\n",
        "print('sparsity: {}'.format(round(sparsity)))"
      ],
      "metadata": {
        "colab": {
          "base_uri": "https://localhost:8080/"
        },
        "id": "7l8xeaOAkUr8",
        "outputId": "128686b1-8e5a-490a-de46-f14a11ea64d0"
      },
      "execution_count": null,
      "outputs": [
        {
          "output_type": "stream",
          "name": "stdout",
          "text": [
            "sparsity: 0\n"
          ]
        }
      ]
    },
    {
      "cell_type": "code",
      "source": [
        "from sklearn.feature_extraction.text import TfidfTransformer\n",
        "\n",
        "tfidf_transformer = TfidfTransformer().fit(news_bow)\n",
        "news_tfidf = tfidf_transformer.transform(news_bow)\n",
        "print(news_tfidf.shape)"
      ],
      "metadata": {
        "colab": {
          "base_uri": "https://localhost:8080/"
        },
        "id": "utNmEeKskXXn",
        "outputId": "8f7d9947-79fd-4969-a888-feded9861a48"
      },
      "execution_count": null,
      "outputs": [
        {
          "output_type": "stream",
          "name": "stdout",
          "text": [
            "(299, 298)\n"
          ]
        }
      ]
    },
    {
      "cell_type": "code",
      "source": [
        "#Train SVM model\n",
        "from sklearn.svm import SVC\n",
        "fakenews_detect_model = SVC(kernel = 'poly', random_state = 0).fit(news_tfidf, news['True/Fake'])\n"
      ],
      "metadata": {
        "id": "7d0amtmmkZVm"
      },
      "execution_count": null,
      "outputs": []
    },
    {
      "cell_type": "code",
      "source": [
        "#Model Evaluation\n",
        "predictions = fakenews_detect_model.predict(news_tfidf)\n",
        "print(predictions)"
      ],
      "metadata": {
        "colab": {
          "base_uri": "https://localhost:8080/"
        },
        "id": "JfSyqaoWleUS",
        "outputId": "b55defa4-b0fd-48de-ad52-eea4f7728050"
      },
      "execution_count": null,
      "outputs": [
        {
          "output_type": "stream",
          "name": "stdout",
          "text": [
            "['True' 'True' 'True' 'True' 'True' 'True' 'True' 'True' 'True' 'True'\n",
            " 'True' 'True' 'True' 'True' 'True' 'True' 'True' 'True' 'True' 'True'\n",
            " 'True' 'True' 'True' 'True' 'True' 'True' 'True' 'True' 'True' 'True'\n",
            " 'True' 'True' 'True' 'True' 'True' 'True' 'True' 'True' 'True' 'True'\n",
            " 'True' 'True' 'True' 'True' 'True' 'True' 'True' 'True' 'True' 'True'\n",
            " 'True' 'True' 'True' 'True' 'True' 'True' 'True' 'True' 'True' 'True'\n",
            " 'True' 'True' 'True' 'True' 'True' 'True' 'True' 'True' 'True' 'True'\n",
            " 'True' 'True' 'True' 'True' 'True' 'True' 'True' 'True' 'True' 'True'\n",
            " 'True' 'True' 'True' 'True' 'True' 'True' 'True' 'True' 'True' 'True'\n",
            " 'True' 'True' 'True' 'True' 'True' 'True' 'True' 'True' 'True' 'True'\n",
            " 'True' 'True' 'True' 'True' 'True' 'True' 'True' 'True' 'True' 'True'\n",
            " 'True' 'True' 'True' 'True' 'True' 'True' 'True' 'True' 'True' 'True'\n",
            " 'True' 'True' 'True' 'True' 'True' 'True' 'True' 'True' 'True' 'True'\n",
            " 'True' 'True' 'True' 'True' 'True' 'True' 'True' 'True' 'True' 'True'\n",
            " 'True' 'True' 'True' 'True' 'True' 'True' 'True' 'True' 'True' 'Fake'\n",
            " 'Fake' 'Fake' 'Fake' 'Fake' 'Fake' 'Fake' 'Fake' 'Fake' 'Fake' 'Fake'\n",
            " 'Fake' 'Fake' 'Fake' 'Fake' 'Fake' 'Fake' 'Fake' 'Fake' 'Fake' 'Fake'\n",
            " 'Fake' 'Fake' 'Fake' 'Fake' 'Fake' 'Fake' 'Fake' 'Fake' 'Fake' 'Fake'\n",
            " 'Fake' 'Fake' 'Fake' 'Fake' 'Fake' 'Fake' 'Fake' 'Fake' 'Fake' 'Fake'\n",
            " 'Fake' 'Fake' 'Fake' 'Fake' 'Fake' 'Fake' 'Fake' 'Fake' 'Fake' 'Fake'\n",
            " 'Fake' 'Fake' 'Fake' 'Fake' 'Fake' 'Fake' 'Fake' 'Fake' 'Fake' 'Fake'\n",
            " 'Fake' 'Fake' 'Fake' 'Fake' 'Fake' 'Fake' 'Fake' 'Fake' 'Fake' 'Fake'\n",
            " 'Fake' 'Fake' 'Fake' 'Fake' 'Fake' 'Fake' 'Fake' 'Fake' 'Fake' 'Fake'\n",
            " 'Fake' 'Fake' 'Fake' 'Fake' 'Fake' 'Fake' 'Fake' 'Fake' 'Fake' 'Fake'\n",
            " 'Fake' 'Fake' 'Fake' 'Fake' 'Fake' 'Fake' 'Fake' 'Fake' 'Fake' 'Fake'\n",
            " 'Fake' 'Fake' 'Fake' 'Fake' 'Fake' 'Fake' 'Fake' 'Fake' 'Fake' 'Fake'\n",
            " 'Fake' 'Fake' 'Fake' 'Fake' 'Fake' 'Fake' 'Fake' 'Fake' 'Fake' 'Fake'\n",
            " 'Fake' 'Fake' 'Fake' 'Fake' 'Fake' 'Fake' 'Fake' 'Fake' 'Fake' 'Fake'\n",
            " 'Fake' 'Fake' 'Fake' 'Fake' 'Fake' 'Fake' 'Fake' 'Fake' 'Fake' 'Fake'\n",
            " 'Fake' 'Fake' 'Fake' 'Fake' 'Fake' 'Fake' 'Fake' 'Fake' 'Fake']\n"
          ]
        }
      ]
    },
    {
      "cell_type": "code",
      "source": [
        "from sklearn.metrics import classification_report\n",
        "print (classification_report(news['True/Fake'], predictions))\n"
      ],
      "metadata": {
        "colab": {
          "base_uri": "https://localhost:8080/"
        },
        "id": "l788t_ZklkKR",
        "outputId": "0621a86c-c19e-43b9-b004-99853f116db0"
      },
      "execution_count": null,
      "outputs": [
        {
          "output_type": "stream",
          "name": "stdout",
          "text": [
            "              precision    recall  f1-score   support\n",
            "\n",
            "        Fake       1.00      1.00      1.00       150\n",
            "        True       1.00      1.00      1.00       149\n",
            "\n",
            "    accuracy                           1.00       299\n",
            "   macro avg       1.00      1.00      1.00       299\n",
            "weighted avg       1.00      1.00      1.00       299\n",
            "\n"
          ]
        }
      ]
    },
    {
      "cell_type": "code",
      "source": [
        "from sklearn.model_selection import train_test_split\n",
        "\n",
        "news_train, news_test, text_train, text_test = train_test_split(news['Article'], news['True/Fake'], test_size=0.3)\n",
        "\n",
        "print(len(news_train), len(news_test), len(news_train) + len(news_test))"
      ],
      "metadata": {
        "colab": {
          "base_uri": "https://localhost:8080/"
        },
        "id": "Mlfcjt8Elm0H",
        "outputId": "2a71909e-ec13-4c57-cb5d-ea0e63687cc1"
      },
      "execution_count": null,
      "outputs": [
        {
          "output_type": "stream",
          "name": "stdout",
          "text": [
            "209 90 299\n"
          ]
        }
      ]
    },
    {
      "cell_type": "code",
      "source": [
        "from sklearn.pipeline import Pipeline\n",
        "\n",
        "pipeline = Pipeline([\n",
        "    ('bow', CountVectorizer(analyzer=process_text)),  \n",
        "    ('tfidf', TfidfTransformer()),  \n",
        "    ('classifier', SVC(kernel = 'poly', random_state = 0)),  \n",
        "])\n",
        "pipeline.fit(news_train,text_train)"
      ],
      "metadata": {
        "colab": {
          "base_uri": "https://localhost:8080/"
        },
        "id": "rF6pSOtilqK1",
        "outputId": "93eb91dd-22b9-491a-dfd2-8e54f9c0c2a3"
      },
      "execution_count": null,
      "outputs": [
        {
          "output_type": "execute_result",
          "data": {
            "text/plain": [
              "Pipeline(steps=[('bow',\n",
              "                 CountVectorizer(analyzer=<function process_text at 0x7f09c16bcd30>)),\n",
              "                ('tfidf', TfidfTransformer()),\n",
              "                ('classifier', SVC(kernel='poly', random_state=0))])"
            ]
          },
          "metadata": {},
          "execution_count": 19
        }
      ]
    },
    {
      "cell_type": "code",
      "source": [
        "prediction = pipeline.predict(news_test)"
      ],
      "metadata": {
        "id": "PASVO5t7lx0N"
      },
      "execution_count": null,
      "outputs": []
    },
    {
      "cell_type": "code",
      "source": [
        "print(classification_report(prediction,text_test))"
      ],
      "metadata": {
        "colab": {
          "base_uri": "https://localhost:8080/"
        },
        "id": "fxXdAquUl1JI",
        "outputId": "8a68b8d9-69a1-47d4-a8e2-967347e5650e"
      },
      "execution_count": null,
      "outputs": [
        {
          "output_type": "stream",
          "name": "stdout",
          "text": [
            "              precision    recall  f1-score   support\n",
            "\n",
            "        Fake       0.97      0.53      0.68        74\n",
            "        True       0.30      0.94      0.45        16\n",
            "\n",
            "    accuracy                           0.60        90\n",
            "   macro avg       0.64      0.73      0.57        90\n",
            "weighted avg       0.85      0.60      0.64        90\n",
            "\n"
          ]
        }
      ]
    }
  ]
}